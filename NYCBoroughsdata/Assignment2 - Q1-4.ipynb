{
 "cells": [
  {
   "cell_type": "markdown",
   "metadata": {},
   "source": [
    "# Assignment 2 - Questions 1-2-3-4"
   ]
  },
  {
   "cell_type": "markdown",
   "metadata": {},
   "source": [
    "## Ahmad Soni - 668564\n",
    "\n",
    "## Nasiem Ayob - 1825850"
   ]
  },
  {
   "cell_type": "code",
   "execution_count": 1,
   "metadata": {
    "execution": {
     "iopub.status.idle": "2021-11-24T16:58:54.628136Z",
     "shell.execute_reply": "2021-11-24T16:58:54.627485Z",
     "shell.execute_reply.started": "2021-11-24T16:58:52.696300Z"
    },
    "executionInfo": {
     "elapsed": 1346,
     "status": "ok",
     "timestamp": 1637679790940,
     "user": {
      "displayName": "nasiem ayob",
      "photoUrl": "https://lh3.googleusercontent.com/a-/AOh14GhYsNLn4PyjrikyWulX3z0YxowYE_hrwXX7YWlg=s64",
      "userId": "17753770046204324955"
     },
     "user_tz": -120
    },
    "id": "jRhI4BmR7zGl"
   },
   "outputs": [
    {
     "name": "stderr",
     "output_type": "stream",
     "text": [
      "D:\\ProgramData\\Anaconda3\\lib\\site-packages\\gensim\\similarities\\__init__.py:15: UserWarning: The gensim.similarities.levenshtein submodule is disabled, because the optional Levenshtein package <https://pypi.org/project/python-Levenshtein/> is unavailable. Install Levenhstein (e.g. `pip install python-Levenshtein`) to suppress this warning.\n",
      "  warnings.warn(msg)\n"
     ]
    }
   ],
   "source": [
    "from sklearn.preprocessing import StandardScaler\n",
    "from sklearn.neighbors import NearestNeighbors\n",
    "from sklearn.cluster import DBSCAN\n",
    "import matplotlib.pyplot as plt\n",
    "from scipy import stats\n",
    "import seaborn as sns\n",
    "import pandas as pd\n",
    "import numpy as np\n",
    "import matplotlib\n",
    "import datetime\n",
    "import gensim\n",
    "import spacy\n",
    "import nltk\n",
    "import re\n",
    "import warnings\n",
    "warnings.simplefilter(action='ignore', category=FutureWarning)"
   ]
  },
  {
   "cell_type": "code",
   "execution_count": 2,
   "metadata": {
    "execution": {
     "iopub.execute_input": "2021-11-24T16:58:54.631934Z",
     "iopub.status.busy": "2021-11-24T16:58:54.631508Z",
     "iopub.status.idle": "2021-11-24T16:58:55.177412Z",
     "shell.execute_reply": "2021-11-24T16:58:55.176574Z",
     "shell.execute_reply.started": "2021-11-24T16:58:54.631909Z"
    },
    "executionInfo": {
     "elapsed": 4791,
     "status": "ok",
     "timestamp": 1637679795726,
     "user": {
      "displayName": "nasiem ayob",
      "photoUrl": "https://lh3.googleusercontent.com/a-/AOh14GhYsNLn4PyjrikyWulX3z0YxowYE_hrwXX7YWlg=s64",
      "userId": "17753770046204324955"
     },
     "user_tz": -120
    },
    "id": "WtIrnQVc77vu"
   },
   "outputs": [],
   "source": [
    "nyc_df = pd.read_csv(\"nyc_taxis.csv\")"
   ]
  },
  {
   "cell_type": "code",
   "execution_count": 3,
   "metadata": {
    "execution": {
     "iopub.execute_input": "2021-11-24T16:58:55.181449Z",
     "iopub.status.busy": "2021-11-24T16:58:55.181038Z",
     "iopub.status.idle": "2021-11-24T16:58:55.192118Z",
     "shell.execute_reply": "2021-11-24T16:58:55.187247Z",
     "shell.execute_reply.started": "2021-11-24T16:58:55.181405Z"
    },
    "executionInfo": {
     "elapsed": 17,
     "status": "ok",
     "timestamp": 1637679795727,
     "user": {
      "displayName": "nasiem ayob",
      "photoUrl": "https://lh3.googleusercontent.com/a-/AOh14GhYsNLn4PyjrikyWulX3z0YxowYE_hrwXX7YWlg=s64",
      "userId": "17753770046204324955"
     },
     "user_tz": -120
    },
    "id": "LWmiS_JQ8JHw"
   },
   "outputs": [],
   "source": [
    "nyc_df.head();"
   ]
  },
  {
   "cell_type": "code",
   "execution_count": 4,
   "metadata": {
    "execution": {
     "iopub.execute_input": "2021-11-24T16:58:55.194156Z",
     "iopub.status.busy": "2021-11-24T16:58:55.193760Z",
     "iopub.status.idle": "2021-11-24T16:58:55.197687Z",
     "shell.execute_reply": "2021-11-24T16:58:55.197079Z",
     "shell.execute_reply.started": "2021-11-24T16:58:55.194124Z"
    }
   },
   "outputs": [],
   "source": [
    "nyc_df.size;"
   ]
  },
  {
   "cell_type": "code",
   "execution_count": 5,
   "metadata": {
    "execution": {
     "iopub.execute_input": "2021-11-24T16:58:55.198983Z",
     "iopub.status.busy": "2021-11-24T16:58:55.198648Z",
     "iopub.status.idle": "2021-11-24T16:58:55.204039Z",
     "shell.execute_reply": "2021-11-24T16:58:55.203409Z",
     "shell.execute_reply.started": "2021-11-24T16:58:55.198954Z"
    },
    "executionInfo": {
     "elapsed": 15,
     "status": "ok",
     "timestamp": 1637679795728,
     "user": {
      "displayName": "nasiem ayob",
      "photoUrl": "https://lh3.googleusercontent.com/a-/AOh14GhYsNLn4PyjrikyWulX3z0YxowYE_hrwXX7YWlg=s64",
      "userId": "17753770046204324955"
     },
     "user_tz": -120
    },
    "id": "GuG2xB2y8s_e"
   },
   "outputs": [],
   "source": [
    "nyc_df.dtypes;"
   ]
  },
  {
   "cell_type": "markdown",
   "metadata": {},
   "source": [
    "****\n",
    "### 1.2 Feature engineering\n",
    "****"
   ]
  },
  {
   "cell_type": "code",
   "execution_count": 6,
   "metadata": {
    "execution": {
     "iopub.execute_input": "2021-11-24T16:58:55.205436Z",
     "iopub.status.busy": "2021-11-24T16:58:55.205148Z",
     "iopub.status.idle": "2021-11-24T16:58:55.212330Z",
     "shell.execute_reply": "2021-11-24T16:58:55.211658Z",
     "shell.execute_reply.started": "2021-11-24T16:58:55.205408Z"
    }
   },
   "outputs": [],
   "source": [
    "from math import radians, cos, sin, asin, sqrt\n",
    "\n",
    "def dist(longs, lats):\n",
    "    R = 6371\n",
    "    \n",
    "    lon1, lat1, lon2, lat2 = map(radians, [longs[0], lats[0], longs[1], lats[1]])\n",
    "\n",
    "    dlon =  lon1 - lon2 \n",
    "    dlat =  lat1 - lat2\n",
    "    \n",
    "    a = sin(dlat/2)**2 + cos(lat1) * cos(lat2) * sin(dlon/2)**2\n",
    "    c = 2 * asin(sqrt(a)) \n",
    "    \n",
    "    return R * c"
   ]
  },
  {
   "cell_type": "code",
   "execution_count": 7,
   "metadata": {
    "execution": {
     "iopub.execute_input": "2021-11-24T16:58:55.213840Z",
     "iopub.status.busy": "2021-11-24T16:58:55.213619Z",
     "iopub.status.idle": "2021-11-24T16:58:55.218696Z",
     "shell.execute_reply": "2021-11-24T16:58:55.218092Z",
     "shell.execute_reply.started": "2021-11-24T16:58:55.213813Z"
    },
    "executionInfo": {
     "elapsed": 13,
     "status": "ok",
     "timestamp": 1637679795729,
     "user": {
      "displayName": "nasiem ayob",
      "photoUrl": "https://lh3.googleusercontent.com/a-/AOh14GhYsNLn4PyjrikyWulX3z0YxowYE_hrwXX7YWlg=s64",
      "userId": "17753770046204324955"
     },
     "user_tz": -120
    },
    "id": "sjbUcz2mBePw"
   },
   "outputs": [],
   "source": [
    "def getDay(row_dt):\n",
    "    dt = row_dt.split(' ')[0].split('-')\n",
    "    \n",
    "    days = [\"Monday\", \"Tuesday\", \"Wednesday\", \"Thursday\", \"Friday\", \"Saturday\", \"Sunday\"]\n",
    "    \n",
    "    d = datetime.date(int(dt[0]),int(dt[1]),int(dt[2])).weekday()\n",
    "    \n",
    "    return days[d]"
   ]
  },
  {
   "cell_type": "code",
   "execution_count": 8,
   "metadata": {
    "execution": {
     "iopub.execute_input": "2021-11-24T16:58:55.220242Z",
     "iopub.status.busy": "2021-11-24T16:58:55.219996Z",
     "iopub.status.idle": "2021-11-24T16:58:55.223641Z",
     "shell.execute_reply": "2021-11-24T16:58:55.222966Z",
     "shell.execute_reply.started": "2021-11-24T16:58:55.220193Z"
    }
   },
   "outputs": [],
   "source": [
    "def getHour(sec):\n",
    "    return sec/(3600)"
   ]
  },
  {
   "cell_type": "code",
   "execution_count": 9,
   "metadata": {
    "execution": {
     "iopub.execute_input": "2021-11-24T16:58:55.225228Z",
     "iopub.status.busy": "2021-11-24T16:58:55.224834Z",
     "iopub.status.idle": "2021-11-24T16:58:56.601063Z",
     "shell.execute_reply": "2021-11-24T16:58:56.600347Z",
     "shell.execute_reply.started": "2021-11-24T16:58:55.225199Z"
    }
   },
   "outputs": [],
   "source": [
    "nyc_df['trip_duration(hour)'] = nyc_df.apply (lambda row: getHour(row[10]), axis=1)"
   ]
  },
  {
   "cell_type": "code",
   "execution_count": 10,
   "metadata": {
    "execution": {
     "iopub.execute_input": "2021-11-24T16:58:56.602644Z",
     "iopub.status.busy": "2021-11-24T16:58:56.602062Z",
     "iopub.status.idle": "2021-11-24T16:58:57.127110Z",
     "shell.execute_reply": "2021-11-24T16:58:57.126476Z",
     "shell.execute_reply.started": "2021-11-24T16:58:56.602611Z"
    },
    "executionInfo": {
     "elapsed": 2504,
     "status": "ok",
     "timestamp": 1637679798221,
     "user": {
      "displayName": "nasiem ayob",
      "photoUrl": "https://lh3.googleusercontent.com/a-/AOh14GhYsNLn4PyjrikyWulX3z0YxowYE_hrwXX7YWlg=s64",
      "userId": "17753770046204324955"
     },
     "user_tz": -120
    },
    "id": "l9IV2MssRBwr"
   },
   "outputs": [],
   "source": [
    "longs = nyc_df[['pickup_longitude','dropoff_longitude']].values.tolist()\n",
    "lats = nyc_df[['pickup_latitude','dropoff_latitude']].values.tolist()"
   ]
  },
  {
   "cell_type": "code",
   "execution_count": 11,
   "metadata": {
    "execution": {
     "iopub.execute_input": "2021-11-24T16:58:57.128686Z",
     "iopub.status.busy": "2021-11-24T16:58:57.128447Z",
     "iopub.status.idle": "2021-11-24T16:58:57.421258Z",
     "shell.execute_reply": "2021-11-24T16:58:57.420553Z",
     "shell.execute_reply.started": "2021-11-24T16:58:57.128657Z"
    },
    "executionInfo": {
     "elapsed": 2876,
     "status": "ok",
     "timestamp": 1637679801090,
     "user": {
      "displayName": "nasiem ayob",
      "photoUrl": "https://lh3.googleusercontent.com/a-/AOh14GhYsNLn4PyjrikyWulX3z0YxowYE_hrwXX7YWlg=s64",
      "userId": "17753770046204324955"
     },
     "user_tz": -120
    },
    "id": "_hbE1YhAU3Pc"
   },
   "outputs": [],
   "source": [
    "distances = []\n",
    "\n",
    "for ln, lt in zip(longs, lats):\n",
    "    distances.append(dist(ln,lt))   "
   ]
  },
  {
   "cell_type": "code",
   "execution_count": 12,
   "metadata": {
    "execution": {
     "iopub.execute_input": "2021-11-24T16:58:57.426908Z",
     "iopub.status.busy": "2021-11-24T16:58:57.425172Z",
     "iopub.status.idle": "2021-11-24T16:58:57.464562Z",
     "shell.execute_reply": "2021-11-24T16:58:57.463905Z",
     "shell.execute_reply.started": "2021-11-24T16:58:57.426836Z"
    },
    "executionInfo": {
     "elapsed": 37,
     "status": "ok",
     "timestamp": 1637679801093,
     "user": {
      "displayName": "nasiem ayob",
      "photoUrl": "https://lh3.googleusercontent.com/a-/AOh14GhYsNLn4PyjrikyWulX3z0YxowYE_hrwXX7YWlg=s64",
      "userId": "17753770046204324955"
     },
     "user_tz": -120
    },
    "id": "dXwHOCgQVFRq"
   },
   "outputs": [],
   "source": [
    "nyc_df['distance(km)'] = distances"
   ]
  },
  {
   "cell_type": "code",
   "execution_count": 13,
   "metadata": {
    "execution": {
     "iopub.execute_input": "2021-11-24T16:58:57.472445Z",
     "iopub.status.busy": "2021-11-24T16:58:57.470452Z",
     "iopub.status.idle": "2021-11-24T16:58:57.500450Z",
     "shell.execute_reply": "2021-11-24T16:58:57.499823Z",
     "shell.execute_reply.started": "2021-11-24T16:58:57.472410Z"
    }
   },
   "outputs": [
    {
     "data": {
      "text/html": [
       "<div>\n",
       "<style scoped>\n",
       "    .dataframe tbody tr th:only-of-type {\n",
       "        vertical-align: middle;\n",
       "    }\n",
       "\n",
       "    .dataframe tbody tr th {\n",
       "        vertical-align: top;\n",
       "    }\n",
       "\n",
       "    .dataframe thead th {\n",
       "        text-align: right;\n",
       "    }\n",
       "</style>\n",
       "<table border=\"1\" class=\"dataframe\">\n",
       "  <thead>\n",
       "    <tr style=\"text-align: right;\">\n",
       "      <th></th>\n",
       "      <th>id</th>\n",
       "      <th>vendor_id</th>\n",
       "      <th>pickup_datetime</th>\n",
       "      <th>dropoff_datetime</th>\n",
       "      <th>passenger_count</th>\n",
       "      <th>pickup_longitude</th>\n",
       "      <th>pickup_latitude</th>\n",
       "      <th>dropoff_longitude</th>\n",
       "      <th>dropoff_latitude</th>\n",
       "      <th>store_and_fwd_flag</th>\n",
       "      <th>trip_duration</th>\n",
       "      <th>trip_duration(hour)</th>\n",
       "      <th>distance(km)</th>\n",
       "    </tr>\n",
       "  </thead>\n",
       "  <tbody>\n",
       "    <tr>\n",
       "      <th>0</th>\n",
       "      <td>id2875421</td>\n",
       "      <td>2</td>\n",
       "      <td>2016-03-14 17:24:55</td>\n",
       "      <td>2016-03-14 17:32:30</td>\n",
       "      <td>1</td>\n",
       "      <td>-73.982155</td>\n",
       "      <td>40.767937</td>\n",
       "      <td>-73.964630</td>\n",
       "      <td>40.765602</td>\n",
       "      <td>N</td>\n",
       "      <td>455</td>\n",
       "      <td>0.126389</td>\n",
       "      <td>1.498521</td>\n",
       "    </tr>\n",
       "    <tr>\n",
       "      <th>1</th>\n",
       "      <td>id2377394</td>\n",
       "      <td>1</td>\n",
       "      <td>2016-06-12 00:43:35</td>\n",
       "      <td>2016-06-12 00:54:38</td>\n",
       "      <td>1</td>\n",
       "      <td>-73.980415</td>\n",
       "      <td>40.738564</td>\n",
       "      <td>-73.999481</td>\n",
       "      <td>40.731152</td>\n",
       "      <td>N</td>\n",
       "      <td>663</td>\n",
       "      <td>0.184167</td>\n",
       "      <td>1.805507</td>\n",
       "    </tr>\n",
       "    <tr>\n",
       "      <th>2</th>\n",
       "      <td>id3858529</td>\n",
       "      <td>2</td>\n",
       "      <td>2016-01-19 11:35:24</td>\n",
       "      <td>2016-01-19 12:10:48</td>\n",
       "      <td>1</td>\n",
       "      <td>-73.979027</td>\n",
       "      <td>40.763939</td>\n",
       "      <td>-74.005333</td>\n",
       "      <td>40.710087</td>\n",
       "      <td>N</td>\n",
       "      <td>2124</td>\n",
       "      <td>0.590000</td>\n",
       "      <td>6.385098</td>\n",
       "    </tr>\n",
       "    <tr>\n",
       "      <th>3</th>\n",
       "      <td>id3504673</td>\n",
       "      <td>2</td>\n",
       "      <td>2016-04-06 19:32:31</td>\n",
       "      <td>2016-04-06 19:39:40</td>\n",
       "      <td>1</td>\n",
       "      <td>-74.010040</td>\n",
       "      <td>40.719971</td>\n",
       "      <td>-74.012268</td>\n",
       "      <td>40.706718</td>\n",
       "      <td>N</td>\n",
       "      <td>429</td>\n",
       "      <td>0.119167</td>\n",
       "      <td>1.485498</td>\n",
       "    </tr>\n",
       "    <tr>\n",
       "      <th>4</th>\n",
       "      <td>id2181028</td>\n",
       "      <td>2</td>\n",
       "      <td>2016-03-26 13:30:55</td>\n",
       "      <td>2016-03-26 13:38:10</td>\n",
       "      <td>1</td>\n",
       "      <td>-73.973053</td>\n",
       "      <td>40.793209</td>\n",
       "      <td>-73.972923</td>\n",
       "      <td>40.782520</td>\n",
       "      <td>N</td>\n",
       "      <td>435</td>\n",
       "      <td>0.120833</td>\n",
       "      <td>1.188588</td>\n",
       "    </tr>\n",
       "  </tbody>\n",
       "</table>\n",
       "</div>"
      ],
      "text/plain": [
       "          id  vendor_id      pickup_datetime     dropoff_datetime  \\\n",
       "0  id2875421          2  2016-03-14 17:24:55  2016-03-14 17:32:30   \n",
       "1  id2377394          1  2016-06-12 00:43:35  2016-06-12 00:54:38   \n",
       "2  id3858529          2  2016-01-19 11:35:24  2016-01-19 12:10:48   \n",
       "3  id3504673          2  2016-04-06 19:32:31  2016-04-06 19:39:40   \n",
       "4  id2181028          2  2016-03-26 13:30:55  2016-03-26 13:38:10   \n",
       "\n",
       "   passenger_count  pickup_longitude  pickup_latitude  dropoff_longitude  \\\n",
       "0                1        -73.982155        40.767937         -73.964630   \n",
       "1                1        -73.980415        40.738564         -73.999481   \n",
       "2                1        -73.979027        40.763939         -74.005333   \n",
       "3                1        -74.010040        40.719971         -74.012268   \n",
       "4                1        -73.973053        40.793209         -73.972923   \n",
       "\n",
       "   dropoff_latitude store_and_fwd_flag  trip_duration  trip_duration(hour)  \\\n",
       "0         40.765602                  N            455             0.126389   \n",
       "1         40.731152                  N            663             0.184167   \n",
       "2         40.710087                  N           2124             0.590000   \n",
       "3         40.706718                  N            429             0.119167   \n",
       "4         40.782520                  N            435             0.120833   \n",
       "\n",
       "   distance(km)  \n",
       "0      1.498521  \n",
       "1      1.805507  \n",
       "2      6.385098  \n",
       "3      1.485498  \n",
       "4      1.188588  "
      ]
     },
     "execution_count": 13,
     "metadata": {},
     "output_type": "execute_result"
    }
   ],
   "source": [
    "nyc_df.head()"
   ]
  },
  {
   "cell_type": "code",
   "execution_count": 14,
   "metadata": {
    "execution": {
     "iopub.execute_input": "2021-11-24T16:58:57.505836Z",
     "iopub.status.busy": "2021-11-24T16:58:57.504150Z",
     "iopub.status.idle": "2021-11-24T16:58:57.513144Z",
     "shell.execute_reply": "2021-11-24T16:58:57.512552Z",
     "shell.execute_reply.started": "2021-11-24T16:58:57.505803Z"
    },
    "executionInfo": {
     "elapsed": 22,
     "status": "ok",
     "timestamp": 1637679801096,
     "user": {
      "displayName": "nasiem ayob",
      "photoUrl": "https://lh3.googleusercontent.com/a-/AOh14GhYsNLn4PyjrikyWulX3z0YxowYE_hrwXX7YWlg=s64",
      "userId": "17753770046204324955"
     },
     "user_tz": -120
    },
    "id": "Akpzq7VPXbr5"
   },
   "outputs": [],
   "source": [
    "nyc_df['speed(km/h)'] = nyc_df['distance(km)'] / nyc_df['trip_duration(hour)']"
   ]
  },
  {
   "cell_type": "code",
   "execution_count": 15,
   "metadata": {
    "colab": {
     "base_uri": "https://localhost:8080/",
     "height": 307
    },
    "execution": {
     "iopub.execute_input": "2021-11-24T16:58:57.518256Z",
     "iopub.status.busy": "2021-11-24T16:58:57.516601Z",
     "iopub.status.idle": "2021-11-24T16:58:57.557519Z",
     "shell.execute_reply": "2021-11-24T16:58:57.552521Z",
     "shell.execute_reply.started": "2021-11-24T16:58:57.518224Z"
    },
    "executionInfo": {
     "elapsed": 23,
     "status": "ok",
     "timestamp": 1637679801098,
     "user": {
      "displayName": "nasiem ayob",
      "photoUrl": "https://lh3.googleusercontent.com/a-/AOh14GhYsNLn4PyjrikyWulX3z0YxowYE_hrwXX7YWlg=s64",
      "userId": "17753770046204324955"
     },
     "user_tz": -120
    },
    "id": "vEoFRovNYGEl",
    "outputId": "96f447a4-b2a0-4057-d234-27ca940c89c9"
   },
   "outputs": [
    {
     "data": {
      "text/html": [
       "<div>\n",
       "<style scoped>\n",
       "    .dataframe tbody tr th:only-of-type {\n",
       "        vertical-align: middle;\n",
       "    }\n",
       "\n",
       "    .dataframe tbody tr th {\n",
       "        vertical-align: top;\n",
       "    }\n",
       "\n",
       "    .dataframe thead th {\n",
       "        text-align: right;\n",
       "    }\n",
       "</style>\n",
       "<table border=\"1\" class=\"dataframe\">\n",
       "  <thead>\n",
       "    <tr style=\"text-align: right;\">\n",
       "      <th></th>\n",
       "      <th>id</th>\n",
       "      <th>vendor_id</th>\n",
       "      <th>pickup_datetime</th>\n",
       "      <th>dropoff_datetime</th>\n",
       "      <th>passenger_count</th>\n",
       "      <th>pickup_longitude</th>\n",
       "      <th>pickup_latitude</th>\n",
       "      <th>dropoff_longitude</th>\n",
       "      <th>dropoff_latitude</th>\n",
       "      <th>store_and_fwd_flag</th>\n",
       "      <th>trip_duration</th>\n",
       "      <th>trip_duration(hour)</th>\n",
       "      <th>distance(km)</th>\n",
       "      <th>speed(km/h)</th>\n",
       "    </tr>\n",
       "  </thead>\n",
       "  <tbody>\n",
       "    <tr>\n",
       "      <th>0</th>\n",
       "      <td>id2875421</td>\n",
       "      <td>2</td>\n",
       "      <td>2016-03-14 17:24:55</td>\n",
       "      <td>2016-03-14 17:32:30</td>\n",
       "      <td>1</td>\n",
       "      <td>-73.982155</td>\n",
       "      <td>40.767937</td>\n",
       "      <td>-73.964630</td>\n",
       "      <td>40.765602</td>\n",
       "      <td>N</td>\n",
       "      <td>455</td>\n",
       "      <td>0.126389</td>\n",
       "      <td>1.498521</td>\n",
       "      <td>11.856428</td>\n",
       "    </tr>\n",
       "    <tr>\n",
       "      <th>1</th>\n",
       "      <td>id2377394</td>\n",
       "      <td>1</td>\n",
       "      <td>2016-06-12 00:43:35</td>\n",
       "      <td>2016-06-12 00:54:38</td>\n",
       "      <td>1</td>\n",
       "      <td>-73.980415</td>\n",
       "      <td>40.738564</td>\n",
       "      <td>-73.999481</td>\n",
       "      <td>40.731152</td>\n",
       "      <td>N</td>\n",
       "      <td>663</td>\n",
       "      <td>0.184167</td>\n",
       "      <td>1.805507</td>\n",
       "      <td>9.803659</td>\n",
       "    </tr>\n",
       "    <tr>\n",
       "      <th>2</th>\n",
       "      <td>id3858529</td>\n",
       "      <td>2</td>\n",
       "      <td>2016-01-19 11:35:24</td>\n",
       "      <td>2016-01-19 12:10:48</td>\n",
       "      <td>1</td>\n",
       "      <td>-73.979027</td>\n",
       "      <td>40.763939</td>\n",
       "      <td>-74.005333</td>\n",
       "      <td>40.710087</td>\n",
       "      <td>N</td>\n",
       "      <td>2124</td>\n",
       "      <td>0.590000</td>\n",
       "      <td>6.385098</td>\n",
       "      <td>10.822201</td>\n",
       "    </tr>\n",
       "    <tr>\n",
       "      <th>3</th>\n",
       "      <td>id3504673</td>\n",
       "      <td>2</td>\n",
       "      <td>2016-04-06 19:32:31</td>\n",
       "      <td>2016-04-06 19:39:40</td>\n",
       "      <td>1</td>\n",
       "      <td>-74.010040</td>\n",
       "      <td>40.719971</td>\n",
       "      <td>-74.012268</td>\n",
       "      <td>40.706718</td>\n",
       "      <td>N</td>\n",
       "      <td>429</td>\n",
       "      <td>0.119167</td>\n",
       "      <td>1.485498</td>\n",
       "      <td>12.465721</td>\n",
       "    </tr>\n",
       "    <tr>\n",
       "      <th>4</th>\n",
       "      <td>id2181028</td>\n",
       "      <td>2</td>\n",
       "      <td>2016-03-26 13:30:55</td>\n",
       "      <td>2016-03-26 13:38:10</td>\n",
       "      <td>1</td>\n",
       "      <td>-73.973053</td>\n",
       "      <td>40.793209</td>\n",
       "      <td>-73.972923</td>\n",
       "      <td>40.782520</td>\n",
       "      <td>N</td>\n",
       "      <td>435</td>\n",
       "      <td>0.120833</td>\n",
       "      <td>1.188588</td>\n",
       "      <td>9.836594</td>\n",
       "    </tr>\n",
       "  </tbody>\n",
       "</table>\n",
       "</div>"
      ],
      "text/plain": [
       "          id  vendor_id      pickup_datetime     dropoff_datetime  \\\n",
       "0  id2875421          2  2016-03-14 17:24:55  2016-03-14 17:32:30   \n",
       "1  id2377394          1  2016-06-12 00:43:35  2016-06-12 00:54:38   \n",
       "2  id3858529          2  2016-01-19 11:35:24  2016-01-19 12:10:48   \n",
       "3  id3504673          2  2016-04-06 19:32:31  2016-04-06 19:39:40   \n",
       "4  id2181028          2  2016-03-26 13:30:55  2016-03-26 13:38:10   \n",
       "\n",
       "   passenger_count  pickup_longitude  pickup_latitude  dropoff_longitude  \\\n",
       "0                1        -73.982155        40.767937         -73.964630   \n",
       "1                1        -73.980415        40.738564         -73.999481   \n",
       "2                1        -73.979027        40.763939         -74.005333   \n",
       "3                1        -74.010040        40.719971         -74.012268   \n",
       "4                1        -73.973053        40.793209         -73.972923   \n",
       "\n",
       "   dropoff_latitude store_and_fwd_flag  trip_duration  trip_duration(hour)  \\\n",
       "0         40.765602                  N            455             0.126389   \n",
       "1         40.731152                  N            663             0.184167   \n",
       "2         40.710087                  N           2124             0.590000   \n",
       "3         40.706718                  N            429             0.119167   \n",
       "4         40.782520                  N            435             0.120833   \n",
       "\n",
       "   distance(km)  speed(km/h)  \n",
       "0      1.498521    11.856428  \n",
       "1      1.805507     9.803659  \n",
       "2      6.385098    10.822201  \n",
       "3      1.485498    12.465721  \n",
       "4      1.188588     9.836594  "
      ]
     },
     "execution_count": 15,
     "metadata": {},
     "output_type": "execute_result"
    }
   ],
   "source": [
    "nyc_df.head()"
   ]
  },
  {
   "cell_type": "code",
   "execution_count": 16,
   "metadata": {
    "execution": {
     "iopub.execute_input": "2021-11-24T16:58:57.558916Z",
     "iopub.status.busy": "2021-11-24T16:58:57.558680Z",
     "iopub.status.idle": "2021-11-24T16:58:59.153609Z",
     "shell.execute_reply": "2021-11-24T16:58:59.152892Z",
     "shell.execute_reply.started": "2021-11-24T16:58:57.558886Z"
    },
    "executionInfo": {
     "elapsed": 14236,
     "status": "ok",
     "timestamp": 1637679815313,
     "user": {
      "displayName": "nasiem ayob",
      "photoUrl": "https://lh3.googleusercontent.com/a-/AOh14GhYsNLn4PyjrikyWulX3z0YxowYE_hrwXX7YWlg=s64",
      "userId": "17753770046204324955"
     },
     "user_tz": -120
    },
    "id": "ZRMJlpW-BpTZ"
   },
   "outputs": [],
   "source": [
    "nyc_df['day'] = nyc_df.apply (lambda row: getDay(row[3]), axis=1)"
   ]
  },
  {
   "cell_type": "code",
   "execution_count": 17,
   "metadata": {
    "execution": {
     "iopub.execute_input": "2021-11-24T16:58:59.154791Z",
     "iopub.status.busy": "2021-11-24T16:58:59.154552Z",
     "iopub.status.idle": "2021-11-24T16:58:59.168861Z",
     "shell.execute_reply": "2021-11-24T16:58:59.168260Z",
     "shell.execute_reply.started": "2021-11-24T16:58:59.154760Z"
    }
   },
   "outputs": [
    {
     "data": {
      "text/html": [
       "<div>\n",
       "<style scoped>\n",
       "    .dataframe tbody tr th:only-of-type {\n",
       "        vertical-align: middle;\n",
       "    }\n",
       "\n",
       "    .dataframe tbody tr th {\n",
       "        vertical-align: top;\n",
       "    }\n",
       "\n",
       "    .dataframe thead th {\n",
       "        text-align: right;\n",
       "    }\n",
       "</style>\n",
       "<table border=\"1\" class=\"dataframe\">\n",
       "  <thead>\n",
       "    <tr style=\"text-align: right;\">\n",
       "      <th></th>\n",
       "      <th>id</th>\n",
       "      <th>vendor_id</th>\n",
       "      <th>pickup_datetime</th>\n",
       "      <th>dropoff_datetime</th>\n",
       "      <th>passenger_count</th>\n",
       "      <th>pickup_longitude</th>\n",
       "      <th>pickup_latitude</th>\n",
       "      <th>dropoff_longitude</th>\n",
       "      <th>dropoff_latitude</th>\n",
       "      <th>store_and_fwd_flag</th>\n",
       "      <th>trip_duration</th>\n",
       "      <th>trip_duration(hour)</th>\n",
       "      <th>distance(km)</th>\n",
       "      <th>speed(km/h)</th>\n",
       "      <th>day</th>\n",
       "    </tr>\n",
       "  </thead>\n",
       "  <tbody>\n",
       "    <tr>\n",
       "      <th>0</th>\n",
       "      <td>id2875421</td>\n",
       "      <td>2</td>\n",
       "      <td>2016-03-14 17:24:55</td>\n",
       "      <td>2016-03-14 17:32:30</td>\n",
       "      <td>1</td>\n",
       "      <td>-73.982155</td>\n",
       "      <td>40.767937</td>\n",
       "      <td>-73.964630</td>\n",
       "      <td>40.765602</td>\n",
       "      <td>N</td>\n",
       "      <td>455</td>\n",
       "      <td>0.126389</td>\n",
       "      <td>1.498521</td>\n",
       "      <td>11.856428</td>\n",
       "      <td>Monday</td>\n",
       "    </tr>\n",
       "    <tr>\n",
       "      <th>1</th>\n",
       "      <td>id2377394</td>\n",
       "      <td>1</td>\n",
       "      <td>2016-06-12 00:43:35</td>\n",
       "      <td>2016-06-12 00:54:38</td>\n",
       "      <td>1</td>\n",
       "      <td>-73.980415</td>\n",
       "      <td>40.738564</td>\n",
       "      <td>-73.999481</td>\n",
       "      <td>40.731152</td>\n",
       "      <td>N</td>\n",
       "      <td>663</td>\n",
       "      <td>0.184167</td>\n",
       "      <td>1.805507</td>\n",
       "      <td>9.803659</td>\n",
       "      <td>Sunday</td>\n",
       "    </tr>\n",
       "    <tr>\n",
       "      <th>2</th>\n",
       "      <td>id3858529</td>\n",
       "      <td>2</td>\n",
       "      <td>2016-01-19 11:35:24</td>\n",
       "      <td>2016-01-19 12:10:48</td>\n",
       "      <td>1</td>\n",
       "      <td>-73.979027</td>\n",
       "      <td>40.763939</td>\n",
       "      <td>-74.005333</td>\n",
       "      <td>40.710087</td>\n",
       "      <td>N</td>\n",
       "      <td>2124</td>\n",
       "      <td>0.590000</td>\n",
       "      <td>6.385098</td>\n",
       "      <td>10.822201</td>\n",
       "      <td>Tuesday</td>\n",
       "    </tr>\n",
       "    <tr>\n",
       "      <th>3</th>\n",
       "      <td>id3504673</td>\n",
       "      <td>2</td>\n",
       "      <td>2016-04-06 19:32:31</td>\n",
       "      <td>2016-04-06 19:39:40</td>\n",
       "      <td>1</td>\n",
       "      <td>-74.010040</td>\n",
       "      <td>40.719971</td>\n",
       "      <td>-74.012268</td>\n",
       "      <td>40.706718</td>\n",
       "      <td>N</td>\n",
       "      <td>429</td>\n",
       "      <td>0.119167</td>\n",
       "      <td>1.485498</td>\n",
       "      <td>12.465721</td>\n",
       "      <td>Wednesday</td>\n",
       "    </tr>\n",
       "    <tr>\n",
       "      <th>4</th>\n",
       "      <td>id2181028</td>\n",
       "      <td>2</td>\n",
       "      <td>2016-03-26 13:30:55</td>\n",
       "      <td>2016-03-26 13:38:10</td>\n",
       "      <td>1</td>\n",
       "      <td>-73.973053</td>\n",
       "      <td>40.793209</td>\n",
       "      <td>-73.972923</td>\n",
       "      <td>40.782520</td>\n",
       "      <td>N</td>\n",
       "      <td>435</td>\n",
       "      <td>0.120833</td>\n",
       "      <td>1.188588</td>\n",
       "      <td>9.836594</td>\n",
       "      <td>Saturday</td>\n",
       "    </tr>\n",
       "  </tbody>\n",
       "</table>\n",
       "</div>"
      ],
      "text/plain": [
       "          id  vendor_id      pickup_datetime     dropoff_datetime  \\\n",
       "0  id2875421          2  2016-03-14 17:24:55  2016-03-14 17:32:30   \n",
       "1  id2377394          1  2016-06-12 00:43:35  2016-06-12 00:54:38   \n",
       "2  id3858529          2  2016-01-19 11:35:24  2016-01-19 12:10:48   \n",
       "3  id3504673          2  2016-04-06 19:32:31  2016-04-06 19:39:40   \n",
       "4  id2181028          2  2016-03-26 13:30:55  2016-03-26 13:38:10   \n",
       "\n",
       "   passenger_count  pickup_longitude  pickup_latitude  dropoff_longitude  \\\n",
       "0                1        -73.982155        40.767937         -73.964630   \n",
       "1                1        -73.980415        40.738564         -73.999481   \n",
       "2                1        -73.979027        40.763939         -74.005333   \n",
       "3                1        -74.010040        40.719971         -74.012268   \n",
       "4                1        -73.973053        40.793209         -73.972923   \n",
       "\n",
       "   dropoff_latitude store_and_fwd_flag  trip_duration  trip_duration(hour)  \\\n",
       "0         40.765602                  N            455             0.126389   \n",
       "1         40.731152                  N            663             0.184167   \n",
       "2         40.710087                  N           2124             0.590000   \n",
       "3         40.706718                  N            429             0.119167   \n",
       "4         40.782520                  N            435             0.120833   \n",
       "\n",
       "   distance(km)  speed(km/h)        day  \n",
       "0      1.498521    11.856428     Monday  \n",
       "1      1.805507     9.803659     Sunday  \n",
       "2      6.385098    10.822201    Tuesday  \n",
       "3      1.485498    12.465721  Wednesday  \n",
       "4      1.188588     9.836594   Saturday  "
      ]
     },
     "execution_count": 17,
     "metadata": {},
     "output_type": "execute_result"
    }
   ],
   "source": [
    "nyc_df.head()"
   ]
  },
  {
   "cell_type": "code",
   "execution_count": 24,
   "metadata": {},
   "outputs": [],
   "source": [
    "nyc_df.to_csv(r'C:\\Users\\Ahmad\\Documents\\Coms Hons\\DVE\\df.csv', index=False)"
   ]
  },
  {
   "cell_type": "markdown",
   "metadata": {},
   "source": [
    "****\n",
    "### 1.1 Data cleaning\n",
    "****"
   ]
  },
  {
   "cell_type": "markdown",
   "metadata": {},
   "source": [
    "#### passenger_count"
   ]
  },
  {
   "cell_type": "code",
   "execution_count": 18,
   "metadata": {
    "execution": {
     "iopub.execute_input": "2021-11-24T16:58:59.170335Z",
     "iopub.status.busy": "2021-11-24T16:58:59.169845Z",
     "iopub.status.idle": "2021-11-24T16:58:59.303948Z",
     "shell.execute_reply": "2021-11-24T16:58:59.302667Z",
     "shell.execute_reply.started": "2021-11-24T16:58:59.170305Z"
    }
   },
   "outputs": [
    {
     "data": {
      "text/plain": [
       "<AxesSubplot:xlabel='passenger_count'>"
      ]
     },
     "execution_count": 18,
     "metadata": {},
     "output_type": "execute_result"
    },
    {
     "data": {
      "image/png": "[encoded data removed]",
      "text/plain": [
       "<Figure size 432x288 with 1 Axes>"
      ]
     },
     "metadata": {
      "needs_background": "light"
     },
     "output_type": "display_data"
    }
   ],
   "source": [
    "sns.boxplot(x=nyc_df['passenger_count'])"
   ]
  },
  {
   "cell_type": "markdown",
   "metadata": {},
   "source": [
    "- **Since only 4 passengers are allowed in a nyc cab**."
   ]
  },
  {
   "cell_type": "code",
   "execution_count": 19,
   "metadata": {
    "execution": {
     "iopub.execute_input": "2021-11-24T16:58:59.305471Z",
     "iopub.status.busy": "2021-11-24T16:58:59.305228Z",
     "iopub.status.idle": "2021-11-24T16:58:59.348767Z",
     "shell.execute_reply": "2021-11-24T16:58:59.348177Z",
     "shell.execute_reply.started": "2021-11-24T16:58:59.305441Z"
    }
   },
   "outputs": [],
   "source": [
    "nyc_df = nyc_df.loc[nyc_df['passenger_count'] <= 4]"
   ]
  },
  {
   "cell_type": "markdown",
   "metadata": {
    "id": "wq3OYDLiEHTL"
   },
   "source": [
    "#### trip_duration(hours) & distance(km)"
   ]
  },
  {
   "cell_type": "code",
   "execution_count": 20,
   "metadata": {
    "execution": {
     "iopub.execute_input": "2021-11-24T16:58:59.350258Z",
     "iopub.status.busy": "2021-11-24T16:58:59.350016Z",
     "iopub.status.idle": "2021-11-24T16:58:59.700682Z",
     "shell.execute_reply": "2021-11-24T16:58:59.700127Z",
     "shell.execute_reply.started": "2021-11-24T16:58:59.350230Z"
    },
    "id": "ONxTXogZEVWS"
   },
   "outputs": [
    {
     "data": {
      "image/png": "[encoded data removed]",
      "text/plain": [
       "<Figure size 720x576 with 1 Axes>"
      ]
     },
     "metadata": {
      "needs_background": "light"
     },
     "output_type": "display_data"
    }
   ],
   "source": [
    "fig, ax = plt.subplots(figsize = (10,8))\n",
    "ax.scatter(nyc_df['trip_duration(hour)'],nyc_df['distance(km)'])\n",
    " \n",
    "# x-axis label\n",
    "ax.set_xlabel('Time')\n",
    " \n",
    "# y-axis label\n",
    "ax.set_ylabel('Distance')\n",
    "plt.show()"
   ]
  },
  {
   "cell_type": "markdown",
   "metadata": {},
   "source": [
    " - **From above we can see that there's an outlier above the distance 1200km.This is removed.**"
   ]
  },
  {
   "cell_type": "code",
   "execution_count": 21,
   "metadata": {
    "execution": {
     "iopub.execute_input": "2021-11-24T16:58:59.702004Z",
     "iopub.status.busy": "2021-11-24T16:58:59.701751Z",
     "iopub.status.idle": "2021-11-24T16:58:59.719574Z",
     "shell.execute_reply": "2021-11-24T16:58:59.717953Z",
     "shell.execute_reply.started": "2021-11-24T16:58:59.701974Z"
    }
   },
   "outputs": [
    {
     "data": {
      "text/html": [
       "<div>\n",
       "<style scoped>\n",
       "    .dataframe tbody tr th:only-of-type {\n",
       "        vertical-align: middle;\n",
       "    }\n",
       "\n",
       "    .dataframe tbody tr th {\n",
       "        vertical-align: top;\n",
       "    }\n",
       "\n",
       "    .dataframe thead th {\n",
       "        text-align: right;\n",
       "    }\n",
       "</style>\n",
       "<table border=\"1\" class=\"dataframe\">\n",
       "  <thead>\n",
       "    <tr style=\"text-align: right;\">\n",
       "      <th></th>\n",
       "      <th>id</th>\n",
       "      <th>vendor_id</th>\n",
       "      <th>pickup_datetime</th>\n",
       "      <th>dropoff_datetime</th>\n",
       "      <th>passenger_count</th>\n",
       "      <th>pickup_longitude</th>\n",
       "      <th>pickup_latitude</th>\n",
       "      <th>dropoff_longitude</th>\n",
       "      <th>dropoff_latitude</th>\n",
       "      <th>store_and_fwd_flag</th>\n",
       "      <th>trip_duration</th>\n",
       "      <th>trip_duration(hour)</th>\n",
       "      <th>distance(km)</th>\n",
       "      <th>speed(km/h)</th>\n",
       "      <th>day</th>\n",
       "    </tr>\n",
       "  </thead>\n",
       "  <tbody>\n",
       "    <tr>\n",
       "      <th>184925</th>\n",
       "      <td>id2306955</td>\n",
       "      <td>1</td>\n",
       "      <td>2016-05-07 18:58:53</td>\n",
       "      <td>2016-05-07 19:12:05</td>\n",
       "      <td>1</td>\n",
       "      <td>-72.809669</td>\n",
       "      <td>51.881084</td>\n",
       "      <td>-73.987228</td>\n",
       "      <td>40.750599</td>\n",
       "      <td>N</td>\n",
       "      <td>792.0</td>\n",
       "      <td>0.22</td>\n",
       "      <td>1240.908677</td>\n",
       "      <td>5640.493985</td>\n",
       "      <td>Saturday</td>\n",
       "    </tr>\n",
       "  </tbody>\n",
       "</table>\n",
       "</div>"
      ],
      "text/plain": [
       "               id  vendor_id      pickup_datetime     dropoff_datetime  \\\n",
       "184925  id2306955          1  2016-05-07 18:58:53  2016-05-07 19:12:05   \n",
       "\n",
       "        passenger_count  pickup_longitude  pickup_latitude  dropoff_longitude  \\\n",
       "184925                1        -72.809669        51.881084         -73.987228   \n",
       "\n",
       "        dropoff_latitude store_and_fwd_flag  trip_duration  \\\n",
       "184925         40.750599                  N          792.0   \n",
       "\n",
       "        trip_duration(hour)  distance(km)  speed(km/h)       day  \n",
       "184925                 0.22   1240.908677  5640.493985  Saturday  "
      ]
     },
     "execution_count": 21,
     "metadata": {},
     "output_type": "execute_result"
    }
   ],
   "source": [
    "nyc_df.loc[nyc_df['distance(km)'] > 1200]"
   ]
  },
  {
   "cell_type": "code",
   "execution_count": 22,
   "metadata": {
    "execution": {
     "iopub.execute_input": "2021-11-24T16:58:59.720978Z",
     "iopub.status.busy": "2021-11-24T16:58:59.720743Z",
     "iopub.status.idle": "2021-11-24T16:58:59.749055Z",
     "shell.execute_reply": "2021-11-24T16:58:59.748474Z",
     "shell.execute_reply.started": "2021-11-24T16:58:59.720950Z"
    },
    "id": "HD-7yKblRghr"
   },
   "outputs": [],
   "source": [
    "nyc_df = nyc_df.loc[nyc_df['distance(km)'] < 1200]"
   ]
  },
  {
   "cell_type": "markdown",
   "metadata": {},
   "source": [
    "****\n",
    "### 1.3 Time-based questions\n",
    "****"
   ]
  },
  {
   "cell_type": "code",
   "execution_count": 23,
   "metadata": {
    "execution": {
     "iopub.execute_input": "2021-11-24T16:58:59.752475Z",
     "iopub.status.busy": "2021-11-24T16:58:59.752245Z",
     "iopub.status.idle": "2021-11-24T16:58:59.757180Z",
     "shell.execute_reply": "2021-11-24T16:58:59.756568Z",
     "shell.execute_reply.started": "2021-11-24T16:58:59.752453Z"
    }
   },
   "outputs": [],
   "source": [
    "import matplotlib.pyplot as plt\n",
    "import pandas as pd\n",
    "import seaborn as sns\n",
    "%matplotlib inline"
   ]
  },
  {
   "cell_type": "markdown",
   "metadata": {
    "execution": {
     "iopub.execute_input": "2021-11-23T19:50:33.970204Z",
     "iopub.status.busy": "2021-11-23T19:50:33.969918Z",
     "iopub.status.idle": "2021-11-23T19:50:33.973086Z",
     "shell.execute_reply": "2021-11-23T19:50:33.972421Z",
     "shell.execute_reply.started": "2021-11-23T19:50:33.970180Z"
    }
   },
   "source": [
    "#### **1**."
   ]
  },
  {
   "cell_type": "code",
   "execution_count": 24,
   "metadata": {
    "execution": {
     "iopub.execute_input": "2021-11-24T16:58:59.759569Z",
     "iopub.status.busy": "2021-11-24T16:58:59.758216Z",
     "iopub.status.idle": "2021-11-24T16:58:59.911539Z",
     "shell.execute_reply": "2021-11-24T16:58:59.910946Z",
     "shell.execute_reply.started": "2021-11-24T16:58:59.759546Z"
    }
   },
   "outputs": [
    {
     "data": {
      "image/png": "[encoded data removed]",
      "text/plain": [
       "<Figure size 720x576 with 1 Axes>"
      ]
     },
     "metadata": {
      "needs_background": "light"
     },
     "output_type": "display_data"
    }
   ],
   "source": [
    "day_count  = nyc_df['day'].value_counts().sort_index()\n",
    "plt.figure(figsize=(10,8))\n",
    "sns.barplot(day_count.index, day_count.values, alpha=0.8)\n",
    "plt.title('Count Per Day')\n",
    "plt.ylabel('Count', fontsize=12)\n",
    "plt.xlabel('Day', fontsize=12)\n",
    "plt.show()"
   ]
  },
  {
   "cell_type": "markdown",
   "metadata": {},
   "source": [
    "- **Saturday is the most popular day**."
   ]
  },
  {
   "cell_type": "markdown",
   "metadata": {},
   "source": [
    "#### **2**."
   ]
  },
  {
   "cell_type": "code",
   "execution_count": 25,
   "metadata": {
    "execution": {
     "iopub.execute_input": "2021-11-24T16:58:59.914442Z",
     "iopub.status.busy": "2021-11-24T16:58:59.914185Z",
     "iopub.status.idle": "2021-11-24T16:58:59.928909Z",
     "shell.execute_reply": "2021-11-24T16:58:59.928122Z",
     "shell.execute_reply.started": "2021-11-24T16:58:59.914419Z"
    }
   },
   "outputs": [
    {
     "data": {
      "text/html": [
       "<div>\n",
       "<style scoped>\n",
       "    .dataframe tbody tr th:only-of-type {\n",
       "        vertical-align: middle;\n",
       "    }\n",
       "\n",
       "    .dataframe tbody tr th {\n",
       "        vertical-align: top;\n",
       "    }\n",
       "\n",
       "    .dataframe thead th {\n",
       "        text-align: right;\n",
       "    }\n",
       "</style>\n",
       "<table border=\"1\" class=\"dataframe\">\n",
       "  <thead>\n",
       "    <tr style=\"text-align: right;\">\n",
       "      <th></th>\n",
       "      <th>id</th>\n",
       "      <th>vendor_id</th>\n",
       "      <th>pickup_datetime</th>\n",
       "      <th>dropoff_datetime</th>\n",
       "      <th>passenger_count</th>\n",
       "      <th>pickup_longitude</th>\n",
       "      <th>pickup_latitude</th>\n",
       "      <th>dropoff_longitude</th>\n",
       "      <th>dropoff_latitude</th>\n",
       "      <th>store_and_fwd_flag</th>\n",
       "      <th>trip_duration</th>\n",
       "      <th>trip_duration(hour)</th>\n",
       "      <th>distance(km)</th>\n",
       "      <th>speed(km/h)</th>\n",
       "      <th>day</th>\n",
       "    </tr>\n",
       "  </thead>\n",
       "  <tbody>\n",
       "    <tr>\n",
       "      <th>0</th>\n",
       "      <td>id2875421</td>\n",
       "      <td>2</td>\n",
       "      <td>2016-03-14 17:24:55</td>\n",
       "      <td>2016-03-14 17:32:30</td>\n",
       "      <td>1</td>\n",
       "      <td>-73.982155</td>\n",
       "      <td>40.767937</td>\n",
       "      <td>-73.964630</td>\n",
       "      <td>40.765602</td>\n",
       "      <td>N</td>\n",
       "      <td>455.0</td>\n",
       "      <td>0.126389</td>\n",
       "      <td>1.498521</td>\n",
       "      <td>11.856428</td>\n",
       "      <td>Monday</td>\n",
       "    </tr>\n",
       "    <tr>\n",
       "      <th>1</th>\n",
       "      <td>id2377394</td>\n",
       "      <td>1</td>\n",
       "      <td>2016-06-12 00:43:35</td>\n",
       "      <td>2016-06-12 00:54:38</td>\n",
       "      <td>1</td>\n",
       "      <td>-73.980415</td>\n",
       "      <td>40.738564</td>\n",
       "      <td>-73.999481</td>\n",
       "      <td>40.731152</td>\n",
       "      <td>N</td>\n",
       "      <td>663.0</td>\n",
       "      <td>0.184167</td>\n",
       "      <td>1.805507</td>\n",
       "      <td>9.803659</td>\n",
       "      <td>Sunday</td>\n",
       "    </tr>\n",
       "    <tr>\n",
       "      <th>2</th>\n",
       "      <td>id3858529</td>\n",
       "      <td>2</td>\n",
       "      <td>2016-01-19 11:35:24</td>\n",
       "      <td>2016-01-19 12:10:48</td>\n",
       "      <td>1</td>\n",
       "      <td>-73.979027</td>\n",
       "      <td>40.763939</td>\n",
       "      <td>-74.005333</td>\n",
       "      <td>40.710087</td>\n",
       "      <td>N</td>\n",
       "      <td>2124.0</td>\n",
       "      <td>0.590000</td>\n",
       "      <td>6.385098</td>\n",
       "      <td>10.822201</td>\n",
       "      <td>Tuesday</td>\n",
       "    </tr>\n",
       "    <tr>\n",
       "      <th>3</th>\n",
       "      <td>id3504673</td>\n",
       "      <td>2</td>\n",
       "      <td>2016-04-06 19:32:31</td>\n",
       "      <td>2016-04-06 19:39:40</td>\n",
       "      <td>1</td>\n",
       "      <td>-74.010040</td>\n",
       "      <td>40.719971</td>\n",
       "      <td>-74.012268</td>\n",
       "      <td>40.706718</td>\n",
       "      <td>N</td>\n",
       "      <td>429.0</td>\n",
       "      <td>0.119167</td>\n",
       "      <td>1.485498</td>\n",
       "      <td>12.465721</td>\n",
       "      <td>Wednesday</td>\n",
       "    </tr>\n",
       "    <tr>\n",
       "      <th>4</th>\n",
       "      <td>id2181028</td>\n",
       "      <td>2</td>\n",
       "      <td>2016-03-26 13:30:55</td>\n",
       "      <td>2016-03-26 13:38:10</td>\n",
       "      <td>1</td>\n",
       "      <td>-73.973053</td>\n",
       "      <td>40.793209</td>\n",
       "      <td>-73.972923</td>\n",
       "      <td>40.782520</td>\n",
       "      <td>N</td>\n",
       "      <td>435.0</td>\n",
       "      <td>0.120833</td>\n",
       "      <td>1.188588</td>\n",
       "      <td>9.836594</td>\n",
       "      <td>Saturday</td>\n",
       "    </tr>\n",
       "  </tbody>\n",
       "</table>\n",
       "</div>"
      ],
      "text/plain": [
       "          id  vendor_id      pickup_datetime     dropoff_datetime  \\\n",
       "0  id2875421          2  2016-03-14 17:24:55  2016-03-14 17:32:30   \n",
       "1  id2377394          1  2016-06-12 00:43:35  2016-06-12 00:54:38   \n",
       "2  id3858529          2  2016-01-19 11:35:24  2016-01-19 12:10:48   \n",
       "3  id3504673          2  2016-04-06 19:32:31  2016-04-06 19:39:40   \n",
       "4  id2181028          2  2016-03-26 13:30:55  2016-03-26 13:38:10   \n",
       "\n",
       "   passenger_count  pickup_longitude  pickup_latitude  dropoff_longitude  \\\n",
       "0                1        -73.982155        40.767937         -73.964630   \n",
       "1                1        -73.980415        40.738564         -73.999481   \n",
       "2                1        -73.979027        40.763939         -74.005333   \n",
       "3                1        -74.010040        40.719971         -74.012268   \n",
       "4                1        -73.973053        40.793209         -73.972923   \n",
       "\n",
       "   dropoff_latitude store_and_fwd_flag  trip_duration  trip_duration(hour)  \\\n",
       "0         40.765602                  N          455.0             0.126389   \n",
       "1         40.731152                  N          663.0             0.184167   \n",
       "2         40.710087                  N         2124.0             0.590000   \n",
       "3         40.706718                  N          429.0             0.119167   \n",
       "4         40.782520                  N          435.0             0.120833   \n",
       "\n",
       "   distance(km)  speed(km/h)        day  \n",
       "0      1.498521    11.856428     Monday  \n",
       "1      1.805507     9.803659     Sunday  \n",
       "2      6.385098    10.822201    Tuesday  \n",
       "3      1.485498    12.465721  Wednesday  \n",
       "4      1.188588     9.836594   Saturday  "
      ]
     },
     "execution_count": 25,
     "metadata": {},
     "output_type": "execute_result"
    }
   ],
   "source": [
    "nyc_df.head()"
   ]
  },
  {
   "cell_type": "code",
   "execution_count": 26,
   "metadata": {
    "execution": {
     "iopub.execute_input": "2021-11-24T16:58:59.930965Z",
     "iopub.status.busy": "2021-11-24T16:58:59.930040Z",
     "iopub.status.idle": "2021-11-24T16:58:59.934648Z",
     "shell.execute_reply": "2021-11-24T16:58:59.934053Z",
     "shell.execute_reply.started": "2021-11-24T16:58:59.930934Z"
    }
   },
   "outputs": [],
   "source": [
    "def getHourOfDay(dt):\n",
    "    t = dt.split(' ')[1].split(':')\n",
    "    \n",
    "    return t[0]    "
   ]
  },
  {
   "cell_type": "code",
   "execution_count": 27,
   "metadata": {
    "execution": {
     "iopub.execute_input": "2021-11-24T16:58:59.936448Z",
     "iopub.status.busy": "2021-11-24T16:58:59.935671Z",
     "iopub.status.idle": "2021-11-24T16:59:01.165379Z",
     "shell.execute_reply": "2021-11-24T16:59:01.164765Z",
     "shell.execute_reply.started": "2021-11-24T16:58:59.936419Z"
    }
   },
   "outputs": [],
   "source": [
    "nyc_df['hour_of_day'] = nyc_df.apply (lambda row: getHourOfDay(row[3]), axis=1)"
   ]
  },
  {
   "cell_type": "code",
   "execution_count": 28,
   "metadata": {
    "execution": {
     "iopub.execute_input": "2021-11-24T16:59:01.166735Z",
     "iopub.status.busy": "2021-11-24T16:59:01.166403Z",
     "iopub.status.idle": "2021-11-24T16:59:01.181555Z",
     "shell.execute_reply": "2021-11-24T16:59:01.180881Z",
     "shell.execute_reply.started": "2021-11-24T16:59:01.166704Z"
    }
   },
   "outputs": [
    {
     "data": {
      "text/html": [
       "<div>\n",
       "<style scoped>\n",
       "    .dataframe tbody tr th:only-of-type {\n",
       "        vertical-align: middle;\n",
       "    }\n",
       "\n",
       "    .dataframe tbody tr th {\n",
       "        vertical-align: top;\n",
       "    }\n",
       "\n",
       "    .dataframe thead th {\n",
       "        text-align: right;\n",
       "    }\n",
       "</style>\n",
       "<table border=\"1\" class=\"dataframe\">\n",
       "  <thead>\n",
       "    <tr style=\"text-align: right;\">\n",
       "      <th></th>\n",
       "      <th>id</th>\n",
       "      <th>vendor_id</th>\n",
       "      <th>pickup_datetime</th>\n",
       "      <th>dropoff_datetime</th>\n",
       "      <th>passenger_count</th>\n",
       "      <th>pickup_longitude</th>\n",
       "      <th>pickup_latitude</th>\n",
       "      <th>dropoff_longitude</th>\n",
       "      <th>dropoff_latitude</th>\n",
       "      <th>store_and_fwd_flag</th>\n",
       "      <th>trip_duration</th>\n",
       "      <th>trip_duration(hour)</th>\n",
       "      <th>distance(km)</th>\n",
       "      <th>speed(km/h)</th>\n",
       "      <th>day</th>\n",
       "      <th>hour_of_day</th>\n",
       "    </tr>\n",
       "  </thead>\n",
       "  <tbody>\n",
       "    <tr>\n",
       "      <th>0</th>\n",
       "      <td>id2875421</td>\n",
       "      <td>2</td>\n",
       "      <td>2016-03-14 17:24:55</td>\n",
       "      <td>2016-03-14 17:32:30</td>\n",
       "      <td>1</td>\n",
       "      <td>-73.982155</td>\n",
       "      <td>40.767937</td>\n",
       "      <td>-73.964630</td>\n",
       "      <td>40.765602</td>\n",
       "      <td>N</td>\n",
       "      <td>455.0</td>\n",
       "      <td>0.126389</td>\n",
       "      <td>1.498521</td>\n",
       "      <td>11.856428</td>\n",
       "      <td>Monday</td>\n",
       "      <td>17</td>\n",
       "    </tr>\n",
       "    <tr>\n",
       "      <th>1</th>\n",
       "      <td>id2377394</td>\n",
       "      <td>1</td>\n",
       "      <td>2016-06-12 00:43:35</td>\n",
       "      <td>2016-06-12 00:54:38</td>\n",
       "      <td>1</td>\n",
       "      <td>-73.980415</td>\n",
       "      <td>40.738564</td>\n",
       "      <td>-73.999481</td>\n",
       "      <td>40.731152</td>\n",
       "      <td>N</td>\n",
       "      <td>663.0</td>\n",
       "      <td>0.184167</td>\n",
       "      <td>1.805507</td>\n",
       "      <td>9.803659</td>\n",
       "      <td>Sunday</td>\n",
       "      <td>00</td>\n",
       "    </tr>\n",
       "    <tr>\n",
       "      <th>2</th>\n",
       "      <td>id3858529</td>\n",
       "      <td>2</td>\n",
       "      <td>2016-01-19 11:35:24</td>\n",
       "      <td>2016-01-19 12:10:48</td>\n",
       "      <td>1</td>\n",
       "      <td>-73.979027</td>\n",
       "      <td>40.763939</td>\n",
       "      <td>-74.005333</td>\n",
       "      <td>40.710087</td>\n",
       "      <td>N</td>\n",
       "      <td>2124.0</td>\n",
       "      <td>0.590000</td>\n",
       "      <td>6.385098</td>\n",
       "      <td>10.822201</td>\n",
       "      <td>Tuesday</td>\n",
       "      <td>12</td>\n",
       "    </tr>\n",
       "    <tr>\n",
       "      <th>3</th>\n",
       "      <td>id3504673</td>\n",
       "      <td>2</td>\n",
       "      <td>2016-04-06 19:32:31</td>\n",
       "      <td>2016-04-06 19:39:40</td>\n",
       "      <td>1</td>\n",
       "      <td>-74.010040</td>\n",
       "      <td>40.719971</td>\n",
       "      <td>-74.012268</td>\n",
       "      <td>40.706718</td>\n",
       "      <td>N</td>\n",
       "      <td>429.0</td>\n",
       "      <td>0.119167</td>\n",
       "      <td>1.485498</td>\n",
       "      <td>12.465721</td>\n",
       "      <td>Wednesday</td>\n",
       "      <td>19</td>\n",
       "    </tr>\n",
       "    <tr>\n",
       "      <th>4</th>\n",
       "      <td>id2181028</td>\n",
       "      <td>2</td>\n",
       "      <td>2016-03-26 13:30:55</td>\n",
       "      <td>2016-03-26 13:38:10</td>\n",
       "      <td>1</td>\n",
       "      <td>-73.973053</td>\n",
       "      <td>40.793209</td>\n",
       "      <td>-73.972923</td>\n",
       "      <td>40.782520</td>\n",
       "      <td>N</td>\n",
       "      <td>435.0</td>\n",
       "      <td>0.120833</td>\n",
       "      <td>1.188588</td>\n",
       "      <td>9.836594</td>\n",
       "      <td>Saturday</td>\n",
       "      <td>13</td>\n",
       "    </tr>\n",
       "  </tbody>\n",
       "</table>\n",
       "</div>"
      ],
      "text/plain": [
       "          id  vendor_id      pickup_datetime     dropoff_datetime  \\\n",
       "0  id2875421          2  2016-03-14 17:24:55  2016-03-14 17:32:30   \n",
       "1  id2377394          1  2016-06-12 00:43:35  2016-06-12 00:54:38   \n",
       "2  id3858529          2  2016-01-19 11:35:24  2016-01-19 12:10:48   \n",
       "3  id3504673          2  2016-04-06 19:32:31  2016-04-06 19:39:40   \n",
       "4  id2181028          2  2016-03-26 13:30:55  2016-03-26 13:38:10   \n",
       "\n",
       "   passenger_count  pickup_longitude  pickup_latitude  dropoff_longitude  \\\n",
       "0                1        -73.982155        40.767937         -73.964630   \n",
       "1                1        -73.980415        40.738564         -73.999481   \n",
       "2                1        -73.979027        40.763939         -74.005333   \n",
       "3                1        -74.010040        40.719971         -74.012268   \n",
       "4                1        -73.973053        40.793209         -73.972923   \n",
       "\n",
       "   dropoff_latitude store_and_fwd_flag  trip_duration  trip_duration(hour)  \\\n",
       "0         40.765602                  N          455.0             0.126389   \n",
       "1         40.731152                  N          663.0             0.184167   \n",
       "2         40.710087                  N         2124.0             0.590000   \n",
       "3         40.706718                  N          429.0             0.119167   \n",
       "4         40.782520                  N          435.0             0.120833   \n",
       "\n",
       "   distance(km)  speed(km/h)        day hour_of_day  \n",
       "0      1.498521    11.856428     Monday          17  \n",
       "1      1.805507     9.803659     Sunday          00  \n",
       "2      6.385098    10.822201    Tuesday          12  \n",
       "3      1.485498    12.465721  Wednesday          19  \n",
       "4      1.188588     9.836594   Saturday          13  "
      ]
     },
     "execution_count": 28,
     "metadata": {},
     "output_type": "execute_result"
    }
   ],
   "source": [
    "nyc_df.head()"
   ]
  },
  {
   "cell_type": "code",
   "execution_count": 29,
   "metadata": {
    "execution": {
     "iopub.execute_input": "2021-11-24T16:59:01.183353Z",
     "iopub.status.busy": "2021-11-24T16:59:01.182613Z",
     "iopub.status.idle": "2021-11-24T16:59:01.502150Z",
     "shell.execute_reply": "2021-11-24T16:59:01.501566Z",
     "shell.execute_reply.started": "2021-11-24T16:59:01.183322Z"
    }
   },
   "outputs": [
    {
     "data": {
      "image/png": "[encoded data removed]",
      "text/plain": [
       "<Figure size 864x720 with 1 Axes>"
      ]
     },
     "metadata": {
      "needs_background": "light"
     },
     "output_type": "display_data"
    }
   ],
   "source": [
    "hour_count  = nyc_df['hour_of_day'].value_counts().sort_index()\n",
    "plt.figure(figsize=(12,10))\n",
    "sns.barplot(hour_count.index, hour_count.values, alpha=0.8)\n",
    "plt.title('Count Per Hour')\n",
    "plt.ylabel('Count', fontsize=12)\n",
    "plt.xlabel('Hour of day', fontsize=12)\n",
    "plt.show()"
   ]
  },
  {
   "cell_type": "markdown",
   "metadata": {},
   "source": [
    "- **The 19th hour of the day is the most popular each day.**\n",
    "- **The reason for this kind of distribution is because after the 5th hour, most people are awake and active as more people make their way to and from work.This decreases after midnight as not many people travel during this time.**"
   ]
  },
  {
   "cell_type": "markdown",
   "metadata": {},
   "source": [
    "#### **3**."
   ]
  },
  {
   "cell_type": "code",
   "execution_count": 30,
   "metadata": {
    "execution": {
     "iopub.execute_input": "2021-11-24T16:59:01.503637Z",
     "iopub.status.busy": "2021-11-24T16:59:01.503398Z",
     "iopub.status.idle": "2021-11-24T16:59:01.507662Z",
     "shell.execute_reply": "2021-11-24T16:59:01.507000Z",
     "shell.execute_reply.started": "2021-11-24T16:59:01.503606Z"
    }
   },
   "outputs": [],
   "source": [
    "weekDays = [\"Monday\",\"Tuesday\",\"Wednesday\",\"Thursday\"]\n",
    "def isWeekDay(day):\n",
    "    flag = \"Weekend\"\n",
    "    if day in weekDays:\n",
    "        flag = \"Weekday\"\n",
    "    \n",
    "    return flag"
   ]
  },
  {
   "cell_type": "code",
   "execution_count": 31,
   "metadata": {
    "execution": {
     "iopub.execute_input": "2021-11-24T16:59:01.509063Z",
     "iopub.status.busy": "2021-11-24T16:59:01.508837Z",
     "iopub.status.idle": "2021-11-24T16:59:02.749475Z",
     "shell.execute_reply": "2021-11-24T16:59:02.748883Z",
     "shell.execute_reply.started": "2021-11-24T16:59:01.509035Z"
    }
   },
   "outputs": [],
   "source": [
    "nyc_df['isWeekDay'] = nyc_df.apply (lambda row: isWeekDay(row[14]), axis=1)"
   ]
  },
  {
   "cell_type": "code",
   "execution_count": 32,
   "metadata": {
    "execution": {
     "iopub.execute_input": "2021-11-24T16:59:02.750768Z",
     "iopub.status.busy": "2021-11-24T16:59:02.750421Z",
     "iopub.status.idle": "2021-11-24T16:59:02.769168Z",
     "shell.execute_reply": "2021-11-24T16:59:02.768574Z",
     "shell.execute_reply.started": "2021-11-24T16:59:02.750739Z"
    }
   },
   "outputs": [
    {
     "data": {
      "text/html": [
       "<div>\n",
       "<style scoped>\n",
       "    .dataframe tbody tr th:only-of-type {\n",
       "        vertical-align: middle;\n",
       "    }\n",
       "\n",
       "    .dataframe tbody tr th {\n",
       "        vertical-align: top;\n",
       "    }\n",
       "\n",
       "    .dataframe thead th {\n",
       "        text-align: right;\n",
       "    }\n",
       "</style>\n",
       "<table border=\"1\" class=\"dataframe\">\n",
       "  <thead>\n",
       "    <tr style=\"text-align: right;\">\n",
       "      <th></th>\n",
       "      <th>id</th>\n",
       "      <th>vendor_id</th>\n",
       "      <th>pickup_datetime</th>\n",
       "      <th>dropoff_datetime</th>\n",
       "      <th>passenger_count</th>\n",
       "      <th>pickup_longitude</th>\n",
       "      <th>pickup_latitude</th>\n",
       "      <th>dropoff_longitude</th>\n",
       "      <th>dropoff_latitude</th>\n",
       "      <th>store_and_fwd_flag</th>\n",
       "      <th>trip_duration</th>\n",
       "      <th>trip_duration(hour)</th>\n",
       "      <th>distance(km)</th>\n",
       "      <th>speed(km/h)</th>\n",
       "      <th>day</th>\n",
       "      <th>hour_of_day</th>\n",
       "      <th>isWeekDay</th>\n",
       "    </tr>\n",
       "  </thead>\n",
       "  <tbody>\n",
       "    <tr>\n",
       "      <th>0</th>\n",
       "      <td>id2875421</td>\n",
       "      <td>2</td>\n",
       "      <td>2016-03-14 17:24:55</td>\n",
       "      <td>2016-03-14 17:32:30</td>\n",
       "      <td>1</td>\n",
       "      <td>-73.982155</td>\n",
       "      <td>40.767937</td>\n",
       "      <td>-73.964630</td>\n",
       "      <td>40.765602</td>\n",
       "      <td>N</td>\n",
       "      <td>455.0</td>\n",
       "      <td>0.126389</td>\n",
       "      <td>1.498521</td>\n",
       "      <td>11.856428</td>\n",
       "      <td>Monday</td>\n",
       "      <td>17</td>\n",
       "      <td>Weekday</td>\n",
       "    </tr>\n",
       "    <tr>\n",
       "      <th>1</th>\n",
       "      <td>id2377394</td>\n",
       "      <td>1</td>\n",
       "      <td>2016-06-12 00:43:35</td>\n",
       "      <td>2016-06-12 00:54:38</td>\n",
       "      <td>1</td>\n",
       "      <td>-73.980415</td>\n",
       "      <td>40.738564</td>\n",
       "      <td>-73.999481</td>\n",
       "      <td>40.731152</td>\n",
       "      <td>N</td>\n",
       "      <td>663.0</td>\n",
       "      <td>0.184167</td>\n",
       "      <td>1.805507</td>\n",
       "      <td>9.803659</td>\n",
       "      <td>Sunday</td>\n",
       "      <td>00</td>\n",
       "      <td>Weekend</td>\n",
       "    </tr>\n",
       "    <tr>\n",
       "      <th>2</th>\n",
       "      <td>id3858529</td>\n",
       "      <td>2</td>\n",
       "      <td>2016-01-19 11:35:24</td>\n",
       "      <td>2016-01-19 12:10:48</td>\n",
       "      <td>1</td>\n",
       "      <td>-73.979027</td>\n",
       "      <td>40.763939</td>\n",
       "      <td>-74.005333</td>\n",
       "      <td>40.710087</td>\n",
       "      <td>N</td>\n",
       "      <td>2124.0</td>\n",
       "      <td>0.590000</td>\n",
       "      <td>6.385098</td>\n",
       "      <td>10.822201</td>\n",
       "      <td>Tuesday</td>\n",
       "      <td>12</td>\n",
       "      <td>Weekday</td>\n",
       "    </tr>\n",
       "    <tr>\n",
       "      <th>3</th>\n",
       "      <td>id3504673</td>\n",
       "      <td>2</td>\n",
       "      <td>2016-04-06 19:32:31</td>\n",
       "      <td>2016-04-06 19:39:40</td>\n",
       "      <td>1</td>\n",
       "      <td>-74.010040</td>\n",
       "      <td>40.719971</td>\n",
       "      <td>-74.012268</td>\n",
       "      <td>40.706718</td>\n",
       "      <td>N</td>\n",
       "      <td>429.0</td>\n",
       "      <td>0.119167</td>\n",
       "      <td>1.485498</td>\n",
       "      <td>12.465721</td>\n",
       "      <td>Wednesday</td>\n",
       "      <td>19</td>\n",
       "      <td>Weekday</td>\n",
       "    </tr>\n",
       "    <tr>\n",
       "      <th>4</th>\n",
       "      <td>id2181028</td>\n",
       "      <td>2</td>\n",
       "      <td>2016-03-26 13:30:55</td>\n",
       "      <td>2016-03-26 13:38:10</td>\n",
       "      <td>1</td>\n",
       "      <td>-73.973053</td>\n",
       "      <td>40.793209</td>\n",
       "      <td>-73.972923</td>\n",
       "      <td>40.782520</td>\n",
       "      <td>N</td>\n",
       "      <td>435.0</td>\n",
       "      <td>0.120833</td>\n",
       "      <td>1.188588</td>\n",
       "      <td>9.836594</td>\n",
       "      <td>Saturday</td>\n",
       "      <td>13</td>\n",
       "      <td>Weekend</td>\n",
       "    </tr>\n",
       "  </tbody>\n",
       "</table>\n",
       "</div>"
      ],
      "text/plain": [
       "          id  vendor_id      pickup_datetime     dropoff_datetime  \\\n",
       "0  id2875421          2  2016-03-14 17:24:55  2016-03-14 17:32:30   \n",
       "1  id2377394          1  2016-06-12 00:43:35  2016-06-12 00:54:38   \n",
       "2  id3858529          2  2016-01-19 11:35:24  2016-01-19 12:10:48   \n",
       "3  id3504673          2  2016-04-06 19:32:31  2016-04-06 19:39:40   \n",
       "4  id2181028          2  2016-03-26 13:30:55  2016-03-26 13:38:10   \n",
       "\n",
       "   passenger_count  pickup_longitude  pickup_latitude  dropoff_longitude  \\\n",
       "0                1        -73.982155        40.767937         -73.964630   \n",
       "1                1        -73.980415        40.738564         -73.999481   \n",
       "2                1        -73.979027        40.763939         -74.005333   \n",
       "3                1        -74.010040        40.719971         -74.012268   \n",
       "4                1        -73.973053        40.793209         -73.972923   \n",
       "\n",
       "   dropoff_latitude store_and_fwd_flag  trip_duration  trip_duration(hour)  \\\n",
       "0         40.765602                  N          455.0             0.126389   \n",
       "1         40.731152                  N          663.0             0.184167   \n",
       "2         40.710087                  N         2124.0             0.590000   \n",
       "3         40.706718                  N          429.0             0.119167   \n",
       "4         40.782520                  N          435.0             0.120833   \n",
       "\n",
       "   distance(km)  speed(km/h)        day hour_of_day isWeekDay  \n",
       "0      1.498521    11.856428     Monday          17   Weekday  \n",
       "1      1.805507     9.803659     Sunday          00   Weekend  \n",
       "2      6.385098    10.822201    Tuesday          12   Weekday  \n",
       "3      1.485498    12.465721  Wednesday          19   Weekday  \n",
       "4      1.188588     9.836594   Saturday          13   Weekend  "
      ]
     },
     "execution_count": 32,
     "metadata": {},
     "output_type": "execute_result"
    }
   ],
   "source": [
    "nyc_df.head()"
   ]
  },
  {
   "cell_type": "code",
   "execution_count": 33,
   "metadata": {
    "execution": {
     "iopub.execute_input": "2021-11-24T16:59:02.770525Z",
     "iopub.status.busy": "2021-11-24T16:59:02.770285Z",
     "iopub.status.idle": "2021-11-24T16:59:02.874329Z",
     "shell.execute_reply": "2021-11-24T16:59:02.873659Z",
     "shell.execute_reply.started": "2021-11-24T16:59:02.770495Z"
    }
   },
   "outputs": [
    {
     "data": {
      "image/png": "[encoded data removed]",
      "text/plain": [
       "<Figure size 576x432 with 1 Axes>"
      ]
     },
     "metadata": {
      "needs_background": "light"
     },
     "output_type": "display_data"
    }
   ],
   "source": [
    "isDay_count  = nyc_df['isWeekDay'].value_counts().sort_index()\n",
    "plt.figure(figsize=(8,6))\n",
    "sns.barplot(isDay_count.index, isDay_count.values, alpha=0.8)\n",
    "plt.title('Count Per Day')\n",
    "plt.ylabel('Count', fontsize=12)\n",
    "plt.xlabel('Day', fontsize=12)\n",
    "plt.show()"
   ]
  },
  {
   "cell_type": "markdown",
   "metadata": {},
   "source": [
    "- **There are a larger number of people taking a cab during the week than weekends.**\n",
    "- **This is due to he fact that most people work during the week instead of weekends, this result in more cab commuters during the week than that of the weekend.** "
   ]
  },
  {
   "cell_type": "markdown",
   "metadata": {},
   "source": [
    "#### **4**."
   ]
  },
  {
   "cell_type": "markdown",
   "metadata": {},
   "source": [
    "#### Major American Holidays between 2016-01-01 and 2016-06-30."
   ]
  },
  {
   "cell_type": "code",
   "execution_count": 34,
   "metadata": {
    "execution": {
     "iopub.execute_input": "2021-11-24T16:59:02.875830Z",
     "iopub.status.busy": "2021-11-24T16:59:02.875511Z",
     "iopub.status.idle": "2021-11-24T16:59:02.885165Z",
     "shell.execute_reply": "2021-11-24T16:59:02.884520Z",
     "shell.execute_reply.started": "2021-11-24T16:59:02.875799Z"
    }
   },
   "outputs": [
    {
     "data": {
      "text/html": [
       "<div>\n",
       "<style scoped>\n",
       "    .dataframe tbody tr th:only-of-type {\n",
       "        vertical-align: middle;\n",
       "    }\n",
       "\n",
       "    .dataframe tbody tr th {\n",
       "        vertical-align: top;\n",
       "    }\n",
       "\n",
       "    .dataframe thead th {\n",
       "        text-align: right;\n",
       "    }\n",
       "</style>\n",
       "<table border=\"1\" class=\"dataframe\">\n",
       "  <thead>\n",
       "    <tr style=\"text-align: right;\">\n",
       "      <th></th>\n",
       "      <th>Holiday</th>\n",
       "      <th>Date</th>\n",
       "    </tr>\n",
       "  </thead>\n",
       "  <tbody>\n",
       "    <tr>\n",
       "      <th>0</th>\n",
       "      <td>New Year's Day</td>\n",
       "      <td>2016-01-01</td>\n",
       "    </tr>\n",
       "    <tr>\n",
       "      <th>1</th>\n",
       "      <td>Martin Luther King Jr. Day</td>\n",
       "      <td>2016-01-18</td>\n",
       "    </tr>\n",
       "    <tr>\n",
       "      <th>2</th>\n",
       "      <td>St. Patrick's Day</td>\n",
       "      <td>2016-03-17</td>\n",
       "    </tr>\n",
       "    <tr>\n",
       "      <th>3</th>\n",
       "      <td>Easter</td>\n",
       "      <td>2016-03-27</td>\n",
       "    </tr>\n",
       "    <tr>\n",
       "      <th>4</th>\n",
       "      <td>Memorial Day</td>\n",
       "      <td>2016-05-30</td>\n",
       "    </tr>\n",
       "  </tbody>\n",
       "</table>\n",
       "</div>"
      ],
      "text/plain": [
       "                      Holiday        Date\n",
       "0              New Year's Day  2016-01-01\n",
       "1  Martin Luther King Jr. Day  2016-01-18\n",
       "2           St. Patrick's Day  2016-03-17\n",
       "3                      Easter  2016-03-27\n",
       "4                Memorial Day  2016-05-30"
      ]
     },
     "execution_count": 34,
     "metadata": {},
     "output_type": "execute_result"
    }
   ],
   "source": [
    "holidays = [ [\"New Year's Day\", \"2016-01-01\"], \n",
    "            [\"Martin Luther King Jr. Day\", \"2016-01-18\"], \n",
    "            [\"St. Patrick's Day\", \"2016-03-17\"], \n",
    "            [\"Easter\", \"2016-03-27\"], \n",
    "            [\"Memorial Day\", \"2016-05-30\"] ]\n",
    "\n",
    "holiday_df = pd.DataFrame(holidays, columns = ['Holiday', 'Date'])\n",
    "  \n",
    "holiday_df.head()"
   ]
  },
  {
   "cell_type": "code",
   "execution_count": 35,
   "metadata": {
    "execution": {
     "iopub.execute_input": "2021-11-24T16:59:02.886590Z",
     "iopub.status.busy": "2021-11-24T16:59:02.886250Z",
     "iopub.status.idle": "2021-11-24T16:59:02.891475Z",
     "shell.execute_reply": "2021-11-24T16:59:02.890867Z",
     "shell.execute_reply.started": "2021-11-24T16:59:02.886560Z"
    }
   },
   "outputs": [],
   "source": [
    "holiday_dates = holiday_df['Date'].values.tolist()\n",
    "def isHoliday(row_dt):\n",
    "    flag = \"Not a Holiday\"\n",
    "    dt = row_dt.split(' ')[0]\n",
    "    if dt in holiday_dates:\n",
    "        flag = \"Holiday\"\n",
    "    \n",
    "    return flag"
   ]
  },
  {
   "cell_type": "code",
   "execution_count": 36,
   "metadata": {
    "execution": {
     "iopub.execute_input": "2021-11-24T16:59:02.893094Z",
     "iopub.status.busy": "2021-11-24T16:59:02.892569Z",
     "iopub.status.idle": "2021-11-24T16:59:04.153153Z",
     "shell.execute_reply": "2021-11-24T16:59:04.152558Z",
     "shell.execute_reply.started": "2021-11-24T16:59:02.893064Z"
    }
   },
   "outputs": [],
   "source": [
    "nyc_df['isHoliday'] = nyc_df.apply (lambda row: isHoliday(row[3]), axis=1)"
   ]
  },
  {
   "cell_type": "code",
   "execution_count": 37,
   "metadata": {
    "execution": {
     "iopub.execute_input": "2021-11-24T16:59:04.154510Z",
     "iopub.status.busy": "2021-11-24T16:59:04.154271Z",
     "iopub.status.idle": "2021-11-24T16:59:04.170223Z",
     "shell.execute_reply": "2021-11-24T16:59:04.169586Z",
     "shell.execute_reply.started": "2021-11-24T16:59:04.154482Z"
    }
   },
   "outputs": [
    {
     "data": {
      "text/html": [
       "<div>\n",
       "<style scoped>\n",
       "    .dataframe tbody tr th:only-of-type {\n",
       "        vertical-align: middle;\n",
       "    }\n",
       "\n",
       "    .dataframe tbody tr th {\n",
       "        vertical-align: top;\n",
       "    }\n",
       "\n",
       "    .dataframe thead th {\n",
       "        text-align: right;\n",
       "    }\n",
       "</style>\n",
       "<table border=\"1\" class=\"dataframe\">\n",
       "  <thead>\n",
       "    <tr style=\"text-align: right;\">\n",
       "      <th></th>\n",
       "      <th>id</th>\n",
       "      <th>vendor_id</th>\n",
       "      <th>pickup_datetime</th>\n",
       "      <th>dropoff_datetime</th>\n",
       "      <th>passenger_count</th>\n",
       "      <th>pickup_longitude</th>\n",
       "      <th>pickup_latitude</th>\n",
       "      <th>dropoff_longitude</th>\n",
       "      <th>dropoff_latitude</th>\n",
       "      <th>store_and_fwd_flag</th>\n",
       "      <th>trip_duration</th>\n",
       "      <th>trip_duration(hour)</th>\n",
       "      <th>distance(km)</th>\n",
       "      <th>speed(km/h)</th>\n",
       "      <th>day</th>\n",
       "      <th>hour_of_day</th>\n",
       "      <th>isWeekDay</th>\n",
       "      <th>isHoliday</th>\n",
       "    </tr>\n",
       "  </thead>\n",
       "  <tbody>\n",
       "    <tr>\n",
       "      <th>0</th>\n",
       "      <td>id2875421</td>\n",
       "      <td>2</td>\n",
       "      <td>2016-03-14 17:24:55</td>\n",
       "      <td>2016-03-14 17:32:30</td>\n",
       "      <td>1</td>\n",
       "      <td>-73.982155</td>\n",
       "      <td>40.767937</td>\n",
       "      <td>-73.964630</td>\n",
       "      <td>40.765602</td>\n",
       "      <td>N</td>\n",
       "      <td>455.0</td>\n",
       "      <td>0.126389</td>\n",
       "      <td>1.498521</td>\n",
       "      <td>11.856428</td>\n",
       "      <td>Monday</td>\n",
       "      <td>17</td>\n",
       "      <td>Weekday</td>\n",
       "      <td>Not a Holiday</td>\n",
       "    </tr>\n",
       "    <tr>\n",
       "      <th>1</th>\n",
       "      <td>id2377394</td>\n",
       "      <td>1</td>\n",
       "      <td>2016-06-12 00:43:35</td>\n",
       "      <td>2016-06-12 00:54:38</td>\n",
       "      <td>1</td>\n",
       "      <td>-73.980415</td>\n",
       "      <td>40.738564</td>\n",
       "      <td>-73.999481</td>\n",
       "      <td>40.731152</td>\n",
       "      <td>N</td>\n",
       "      <td>663.0</td>\n",
       "      <td>0.184167</td>\n",
       "      <td>1.805507</td>\n",
       "      <td>9.803659</td>\n",
       "      <td>Sunday</td>\n",
       "      <td>00</td>\n",
       "      <td>Weekend</td>\n",
       "      <td>Not a Holiday</td>\n",
       "    </tr>\n",
       "    <tr>\n",
       "      <th>2</th>\n",
       "      <td>id3858529</td>\n",
       "      <td>2</td>\n",
       "      <td>2016-01-19 11:35:24</td>\n",
       "      <td>2016-01-19 12:10:48</td>\n",
       "      <td>1</td>\n",
       "      <td>-73.979027</td>\n",
       "      <td>40.763939</td>\n",
       "      <td>-74.005333</td>\n",
       "      <td>40.710087</td>\n",
       "      <td>N</td>\n",
       "      <td>2124.0</td>\n",
       "      <td>0.590000</td>\n",
       "      <td>6.385098</td>\n",
       "      <td>10.822201</td>\n",
       "      <td>Tuesday</td>\n",
       "      <td>12</td>\n",
       "      <td>Weekday</td>\n",
       "      <td>Not a Holiday</td>\n",
       "    </tr>\n",
       "    <tr>\n",
       "      <th>3</th>\n",
       "      <td>id3504673</td>\n",
       "      <td>2</td>\n",
       "      <td>2016-04-06 19:32:31</td>\n",
       "      <td>2016-04-06 19:39:40</td>\n",
       "      <td>1</td>\n",
       "      <td>-74.010040</td>\n",
       "      <td>40.719971</td>\n",
       "      <td>-74.012268</td>\n",
       "      <td>40.706718</td>\n",
       "      <td>N</td>\n",
       "      <td>429.0</td>\n",
       "      <td>0.119167</td>\n",
       "      <td>1.485498</td>\n",
       "      <td>12.465721</td>\n",
       "      <td>Wednesday</td>\n",
       "      <td>19</td>\n",
       "      <td>Weekday</td>\n",
       "      <td>Not a Holiday</td>\n",
       "    </tr>\n",
       "    <tr>\n",
       "      <th>4</th>\n",
       "      <td>id2181028</td>\n",
       "      <td>2</td>\n",
       "      <td>2016-03-26 13:30:55</td>\n",
       "      <td>2016-03-26 13:38:10</td>\n",
       "      <td>1</td>\n",
       "      <td>-73.973053</td>\n",
       "      <td>40.793209</td>\n",
       "      <td>-73.972923</td>\n",
       "      <td>40.782520</td>\n",
       "      <td>N</td>\n",
       "      <td>435.0</td>\n",
       "      <td>0.120833</td>\n",
       "      <td>1.188588</td>\n",
       "      <td>9.836594</td>\n",
       "      <td>Saturday</td>\n",
       "      <td>13</td>\n",
       "      <td>Weekend</td>\n",
       "      <td>Not a Holiday</td>\n",
       "    </tr>\n",
       "  </tbody>\n",
       "</table>\n",
       "</div>"
      ],
      "text/plain": [
       "          id  vendor_id      pickup_datetime     dropoff_datetime  \\\n",
       "0  id2875421          2  2016-03-14 17:24:55  2016-03-14 17:32:30   \n",
       "1  id2377394          1  2016-06-12 00:43:35  2016-06-12 00:54:38   \n",
       "2  id3858529          2  2016-01-19 11:35:24  2016-01-19 12:10:48   \n",
       "3  id3504673          2  2016-04-06 19:32:31  2016-04-06 19:39:40   \n",
       "4  id2181028          2  2016-03-26 13:30:55  2016-03-26 13:38:10   \n",
       "\n",
       "   passenger_count  pickup_longitude  pickup_latitude  dropoff_longitude  \\\n",
       "0                1        -73.982155        40.767937         -73.964630   \n",
       "1                1        -73.980415        40.738564         -73.999481   \n",
       "2                1        -73.979027        40.763939         -74.005333   \n",
       "3                1        -74.010040        40.719971         -74.012268   \n",
       "4                1        -73.973053        40.793209         -73.972923   \n",
       "\n",
       "   dropoff_latitude store_and_fwd_flag  trip_duration  trip_duration(hour)  \\\n",
       "0         40.765602                  N          455.0             0.126389   \n",
       "1         40.731152                  N          663.0             0.184167   \n",
       "2         40.710087                  N         2124.0             0.590000   \n",
       "3         40.706718                  N          429.0             0.119167   \n",
       "4         40.782520                  N          435.0             0.120833   \n",
       "\n",
       "   distance(km)  speed(km/h)        day hour_of_day isWeekDay      isHoliday  \n",
       "0      1.498521    11.856428     Monday          17   Weekday  Not a Holiday  \n",
       "1      1.805507     9.803659     Sunday          00   Weekend  Not a Holiday  \n",
       "2      6.385098    10.822201    Tuesday          12   Weekday  Not a Holiday  \n",
       "3      1.485498    12.465721  Wednesday          19   Weekday  Not a Holiday  \n",
       "4      1.188588     9.836594   Saturday          13   Weekend  Not a Holiday  "
      ]
     },
     "execution_count": 37,
     "metadata": {},
     "output_type": "execute_result"
    }
   ],
   "source": [
    "nyc_df.head()"
   ]
  },
  {
   "cell_type": "code",
   "execution_count": 38,
   "metadata": {
    "execution": {
     "iopub.execute_input": "2021-11-24T16:59:04.172219Z",
     "iopub.status.busy": "2021-11-24T16:59:04.171385Z",
     "iopub.status.idle": "2021-11-24T16:59:04.280395Z",
     "shell.execute_reply": "2021-11-24T16:59:04.279719Z",
     "shell.execute_reply.started": "2021-11-24T16:59:04.172188Z"
    }
   },
   "outputs": [
    {
     "data": {
      "image/png": "[encoded data removed]",
      "text/plain": [
       "<Figure size 576x432 with 1 Axes>"
      ]
     },
     "metadata": {
      "needs_background": "light"
     },
     "output_type": "display_data"
    }
   ],
   "source": [
    "isHoliday_count  = nyc_df['isHoliday'].value_counts().sort_index()\n",
    "plt.figure(figsize=(8,6))\n",
    "sns.barplot(isHoliday_count.index, isHoliday_count.values, alpha=0.8)\n",
    "plt.title('Count Per Day')\n",
    "plt.ylabel('Count', fontsize=12)\n",
    "plt.xlabel('Day', fontsize=12)\n",
    "plt.show()"
   ]
  },
  {
   "cell_type": "markdown",
   "metadata": {},
   "source": [
    "- **There is evidently a large gap between the number of people taking a cab during a major holiday and during an ordinary day.**\n",
    "- **This is due to there only being 5 major holidays between 2016-01-01 and 2016-06-30.**"
   ]
  },
  {
   "cell_type": "markdown",
   "metadata": {},
   "source": [
    "#### **5**."
   ]
  },
  {
   "cell_type": "code",
   "execution_count": 39,
   "metadata": {
    "execution": {
     "iopub.execute_input": "2021-11-24T16:59:04.281859Z",
     "iopub.status.busy": "2021-11-24T16:59:04.281613Z",
     "iopub.status.idle": "2021-11-24T16:59:04.610083Z",
     "shell.execute_reply": "2021-11-24T16:59:04.609436Z",
     "shell.execute_reply.started": "2021-11-24T16:59:04.281827Z"
    }
   },
   "outputs": [
    {
     "data": {
      "image/png": "[encoded data removed]",
      "text/plain": [
       "<Figure size 720x576 with 1 Axes>"
      ]
     },
     "metadata": {
      "needs_background": "light"
     },
     "output_type": "display_data"
    }
   ],
   "source": [
    "daySpeed_avg  = nyc_df.groupby('hour_of_day')['speed(km/h)'].mean()\n",
    "plt.figure(figsize=(10,8))\n",
    "sns.barplot(daySpeed_avg .index, daySpeed_avg .values, alpha=0.8)\n",
    "plt.title('Average Speed Per Hour')\n",
    "plt.ylabel('Average Speed', fontsize=12)\n",
    "plt.xlabel('Hour', fontsize=12)\n",
    "plt.show()"
   ]
  },
  {
   "cell_type": "markdown",
   "metadata": {},
   "source": [
    "- **The average speed increases from midnight to 5 in the morning, this could be due to the lack of traffic during these hours.**\n",
    "- **The average speed then decreases after 5 in the moring as more people are active and making their way to work, this results in more traffic.**\n",
    "- **After the 18th hour, the average speed once again increases due to less cars being on the road.**"
   ]
  },
  {
   "cell_type": "markdown",
   "metadata": {},
   "source": [
    "****\n",
    "### 1.4 Location clusters\n",
    "****"
   ]
  },
  {
   "cell_type": "markdown",
   "metadata": {},
   "source": [
    "#### Select certain hours of the weekdays & weekends"
   ]
  },
  {
   "cell_type": "code",
   "execution_count": 40,
   "metadata": {
    "execution": {
     "iopub.execute_input": "2021-11-24T16:59:04.614569Z",
     "iopub.status.busy": "2021-11-24T16:59:04.614273Z",
     "iopub.status.idle": "2021-11-24T16:59:04.679794Z",
     "shell.execute_reply": "2021-11-24T16:59:04.679184Z",
     "shell.execute_reply.started": "2021-11-24T16:59:04.614539Z"
    }
   },
   "outputs": [],
   "source": [
    "hours_df = nyc_df.loc[(nyc_df['hour_of_day'] >= '20') & (nyc_df['hour_of_day'] < '3')]"
   ]
  },
  {
   "cell_type": "code",
   "execution_count": 41,
   "metadata": {
    "execution": {
     "iopub.execute_input": "2021-11-24T16:59:04.681313Z",
     "iopub.status.busy": "2021-11-24T16:59:04.681050Z",
     "iopub.status.idle": "2021-11-24T16:59:04.689774Z",
     "shell.execute_reply": "2021-11-24T16:59:04.689098Z",
     "shell.execute_reply.started": "2021-11-24T16:59:04.681283Z"
    }
   },
   "outputs": [
    {
     "data": {
      "text/html": [
       "<div>\n",
       "<style scoped>\n",
       "    .dataframe tbody tr th:only-of-type {\n",
       "        vertical-align: middle;\n",
       "    }\n",
       "\n",
       "    .dataframe tbody tr th {\n",
       "        vertical-align: top;\n",
       "    }\n",
       "\n",
       "    .dataframe thead th {\n",
       "        text-align: right;\n",
       "    }\n",
       "</style>\n",
       "<table border=\"1\" class=\"dataframe\">\n",
       "  <thead>\n",
       "    <tr style=\"text-align: right;\">\n",
       "      <th></th>\n",
       "      <th>pickup_longitude</th>\n",
       "      <th>pickup_latitude</th>\n",
       "    </tr>\n",
       "  </thead>\n",
       "  <tbody>\n",
       "    <tr>\n",
       "      <th>6</th>\n",
       "      <td>-73.969017</td>\n",
       "      <td>40.757839</td>\n",
       "    </tr>\n",
       "    <tr>\n",
       "      <th>8</th>\n",
       "      <td>-73.999481</td>\n",
       "      <td>40.738400</td>\n",
       "    </tr>\n",
       "    <tr>\n",
       "      <th>9</th>\n",
       "      <td>-73.981049</td>\n",
       "      <td>40.744339</td>\n",
       "    </tr>\n",
       "    <tr>\n",
       "      <th>10</th>\n",
       "      <td>-73.982651</td>\n",
       "      <td>40.763840</td>\n",
       "    </tr>\n",
       "    <tr>\n",
       "      <th>13</th>\n",
       "      <td>-73.956306</td>\n",
       "      <td>40.767941</td>\n",
       "    </tr>\n",
       "  </tbody>\n",
       "</table>\n",
       "</div>"
      ],
      "text/plain": [
       "    pickup_longitude  pickup_latitude\n",
       "6         -73.969017        40.757839\n",
       "8         -73.999481        40.738400\n",
       "9         -73.981049        40.744339\n",
       "10        -73.982651        40.763840\n",
       "13        -73.956306        40.767941"
      ]
     },
     "execution_count": 41,
     "metadata": {},
     "output_type": "execute_result"
    }
   ],
   "source": [
    "df = hours_df[['pickup_longitude','pickup_latitude']]\n",
    "df.head()"
   ]
  },
  {
   "cell_type": "raw",
   "metadata": {
    "execution": {
     "iopub.execute_input": "2021-11-24T15:59:54.447174Z",
     "iopub.status.busy": "2021-11-24T15:59:54.446453Z"
    }
   },
   "source": [
    "coords1 = df[['pickup_longitude','pickup_latitude']].values.tolist()\n",
    "dbscan=DBSCAN()\n",
    "dbscan.fit(np.array(coords1))"
   ]
  },
  {
   "cell_type": "markdown",
   "metadata": {},
   "source": [
    "#### Scale the coordinates"
   ]
  },
  {
   "cell_type": "code",
   "execution_count": 42,
   "metadata": {
    "execution": {
     "iopub.execute_input": "2021-11-24T16:59:04.691539Z",
     "iopub.status.busy": "2021-11-24T16:59:04.691045Z",
     "iopub.status.idle": "2021-11-24T16:59:04.849658Z",
     "shell.execute_reply": "2021-11-24T16:59:04.849036Z",
     "shell.execute_reply.started": "2021-11-24T16:59:04.691508Z"
    }
   },
   "outputs": [],
   "source": [
    "coords = df[['pickup_longitude','pickup_latitude']].values.tolist()"
   ]
  },
  {
   "cell_type": "code",
   "execution_count": 43,
   "metadata": {
    "execution": {
     "iopub.execute_input": "2021-11-24T16:59:04.851232Z",
     "iopub.status.busy": "2021-11-24T16:59:04.850991Z",
     "iopub.status.idle": "2021-11-24T16:59:04.945151Z",
     "shell.execute_reply": "2021-11-24T16:59:04.943864Z",
     "shell.execute_reply.started": "2021-11-24T16:59:04.851202Z"
    }
   },
   "outputs": [
    {
     "data": {
      "text/html": [
       "<div>\n",
       "<style scoped>\n",
       "    .dataframe tbody tr th:only-of-type {\n",
       "        vertical-align: middle;\n",
       "    }\n",
       "\n",
       "    .dataframe tbody tr th {\n",
       "        vertical-align: top;\n",
       "    }\n",
       "\n",
       "    .dataframe thead th {\n",
       "        text-align: right;\n",
       "    }\n",
       "</style>\n",
       "<table border=\"1\" class=\"dataframe\">\n",
       "  <thead>\n",
       "    <tr style=\"text-align: right;\">\n",
       "      <th></th>\n",
       "      <th>longitude(scaled)</th>\n",
       "      <th>latitude(scaled)</th>\n",
       "    </tr>\n",
       "  </thead>\n",
       "  <tbody>\n",
       "    <tr>\n",
       "      <th>0</th>\n",
       "      <td>0.131293</td>\n",
       "      <td>0.345417</td>\n",
       "    </tr>\n",
       "    <tr>\n",
       "      <th>1</th>\n",
       "      <td>-0.621026</td>\n",
       "      <td>-0.337760</td>\n",
       "    </tr>\n",
       "    <tr>\n",
       "      <th>2</th>\n",
       "      <td>-0.165829</td>\n",
       "      <td>-0.129027</td>\n",
       "    </tr>\n",
       "    <tr>\n",
       "      <th>3</th>\n",
       "      <td>-0.205395</td>\n",
       "      <td>0.556295</td>\n",
       "    </tr>\n",
       "    <tr>\n",
       "      <th>4</th>\n",
       "      <td>0.445183</td>\n",
       "      <td>0.700411</td>\n",
       "    </tr>\n",
       "  </tbody>\n",
       "</table>\n",
       "</div>"
      ],
      "text/plain": [
       "   longitude(scaled)  latitude(scaled)\n",
       "0           0.131293          0.345417\n",
       "1          -0.621026         -0.337760\n",
       "2          -0.165829         -0.129027\n",
       "3          -0.205395          0.556295\n",
       "4           0.445183          0.700411"
      ]
     },
     "execution_count": 43,
     "metadata": {},
     "output_type": "execute_result"
    }
   ],
   "source": [
    "X = StandardScaler().fit_transform(coords)\n",
    "df = pd.DataFrame(X.tolist(), columns = ['longitude(scaled)', 'latitude(scaled)'])\n",
    "df.head()"
   ]
  },
  {
   "cell_type": "code",
   "execution_count": 44,
   "metadata": {
    "execution": {
     "iopub.execute_input": "2021-11-24T16:59:04.946584Z",
     "iopub.status.busy": "2021-11-24T16:59:04.946178Z",
     "iopub.status.idle": "2021-11-24T16:59:13.017923Z",
     "shell.execute_reply": "2021-11-24T16:59:13.017344Z",
     "shell.execute_reply.started": "2021-11-24T16:59:04.946552Z"
    }
   },
   "outputs": [
    {
     "data": {
      "text/plain": [
       "DBSCAN()"
      ]
     },
     "execution_count": 44,
     "metadata": {},
     "output_type": "execute_result"
    }
   ],
   "source": [
    "dbscan=DBSCAN()\n",
    "dbscan.fit(X)"
   ]
  },
  {
   "cell_type": "code",
   "execution_count": 45,
   "metadata": {
    "execution": {
     "iopub.execute_input": "2021-11-24T16:59:13.019243Z",
     "iopub.status.busy": "2021-11-24T16:59:13.019011Z",
     "iopub.status.idle": "2021-11-24T16:59:13.022721Z",
     "shell.execute_reply": "2021-11-24T16:59:13.022137Z",
     "shell.execute_reply.started": "2021-11-24T16:59:13.019211Z"
    }
   },
   "outputs": [],
   "source": [
    "colours=['purple','red','blue','green']"
   ]
  },
  {
   "cell_type": "code",
   "execution_count": 46,
   "metadata": {
    "execution": {
     "iopub.execute_input": "2021-11-24T16:59:13.024333Z",
     "iopub.status.busy": "2021-11-24T16:59:13.023813Z",
     "iopub.status.idle": "2021-11-24T16:59:13.853033Z",
     "shell.execute_reply": "2021-11-24T16:59:13.852361Z",
     "shell.execute_reply.started": "2021-11-24T16:59:13.024305Z"
    }
   },
   "outputs": [
    {
     "data": {
      "image/png": "[encoded data removed]",
      "text/plain": [
       "<Figure size 720x720 with 1 Axes>"
      ]
     },
     "metadata": {
      "needs_background": "light"
     },
     "output_type": "display_data"
    }
   ],
   "source": [
    "df['DBSCAN_labels']=dbscan.labels_ \n",
    "\n",
    "# Plotting resulting clusters\n",
    "plt.figure(figsize=(10,10))\n",
    "plt.scatter(df['longitude(scaled)'],df['latitude(scaled)'],c=df['DBSCAN_labels'],cmap=matplotlib.colors.ListedColormap(colours),s=50,alpha=0.4)\n",
    "plt.title('DBSCAN Clustering',fontsize=20)\n",
    "plt.xlabel('Longitude(Scaled)',fontsize=14)\n",
    "plt.ylabel('Latitude(Scaled)',fontsize=14)\n",
    "plt.show()"
   ]
  },
  {
   "cell_type": "code",
   "execution_count": 47,
   "metadata": {
    "execution": {
     "iopub.execute_input": "2021-11-24T16:59:13.854679Z",
     "iopub.status.busy": "2021-11-24T16:59:13.854289Z",
     "iopub.status.idle": "2021-11-24T16:59:13.957626Z",
     "shell.execute_reply": "2021-11-24T16:59:13.956937Z",
     "shell.execute_reply.started": "2021-11-24T16:59:13.854646Z"
    }
   },
   "outputs": [],
   "source": [
    "from sklearn.neighbors import NearestNeighbors\n",
    "neigh = NearestNeighbors(n_neighbors=2)\n",
    "nbrs = neigh.fit(df[['longitude(scaled)','latitude(scaled)']])\n",
    "distances, indices = nbrs.kneighbors(df[['longitude(scaled)','latitude(scaled)']])"
   ]
  },
  {
   "cell_type": "code",
   "execution_count": 48,
   "metadata": {
    "execution": {
     "iopub.execute_input": "2021-11-24T16:59:13.961581Z",
     "iopub.status.busy": "2021-11-24T16:59:13.960177Z",
     "iopub.status.idle": "2021-11-24T16:59:14.090445Z",
     "shell.execute_reply": "2021-11-24T16:59:14.089886Z",
     "shell.execute_reply.started": "2021-11-24T16:59:13.961545Z"
    }
   },
   "outputs": [
    {
     "data": {
      "image/png": "[encoded data removed]",
      "text/plain": [
       "<Figure size 720x576 with 1 Axes>"
      ]
     },
     "metadata": {
      "needs_background": "light"
     },
     "output_type": "display_data"
    }
   ],
   "source": [
    "# Plotting K-distance Graph\n",
    "distances = np.sort(distances, axis=0)\n",
    "distances = distances[:,1]\n",
    "plt.figure(figsize=(10,8))\n",
    "plt.plot(distances)\n",
    "plt.title('K-distance Graph',fontsize=15)\n",
    "plt.xlabel('Data Points sorted by distance',fontsize=10)\n",
    "plt.ylabel('Epsilon',fontsize=10)\n",
    "plt.show()"
   ]
  },
  {
   "cell_type": "markdown",
   "metadata": {},
   "source": [
    "- **The above graph shows that the best epsilon value is at the curvature, which is between 0 & 1.**\n",
    "- **We decided to choose the default epsilon value i.e. eps = 0.5.**\n",
    "- **We chose 15 as the number of min_samples as it is recommended for min_samples >= Dimensions+1.**\n",
    "- **We noticed that changing the min_samples from the default min_samples did not change the original heatmap, the number of clusters remained the same**"
   ]
  },
  {
   "cell_type": "code",
   "execution_count": 49,
   "metadata": {
    "execution": {
     "iopub.execute_input": "2021-11-24T16:59:14.091496Z",
     "iopub.status.busy": "2021-11-24T16:59:14.091314Z",
     "iopub.status.idle": "2021-11-24T16:59:20.978959Z",
     "shell.execute_reply": "2021-11-24T16:59:20.978264Z",
     "shell.execute_reply.started": "2021-11-24T16:59:14.091475Z"
    }
   },
   "outputs": [
    {
     "data": {
      "text/plain": [
       "DBSCAN(min_samples=15)"
      ]
     },
     "execution_count": 49,
     "metadata": {},
     "output_type": "execute_result"
    }
   ],
   "source": [
    "dbscan_opt=DBSCAN(eps=0.5,min_samples=15)\n",
    "dbscan_opt.fit(X)"
   ]
  },
  {
   "cell_type": "code",
   "execution_count": 50,
   "metadata": {
    "execution": {
     "iopub.execute_input": "2021-11-24T16:59:20.980441Z",
     "iopub.status.busy": "2021-11-24T16:59:20.980201Z",
     "iopub.status.idle": "2021-11-24T16:59:21.869175Z",
     "shell.execute_reply": "2021-11-24T16:59:21.868453Z",
     "shell.execute_reply.started": "2021-11-24T16:59:20.980411Z"
    }
   },
   "outputs": [
    {
     "data": {
      "image/png": "[encoded data removed]",
      "text/plain": [
       "<Figure size 720x720 with 1 Axes>"
      ]
     },
     "metadata": {
      "needs_background": "light"
     },
     "output_type": "display_data"
    }
   ],
   "source": [
    "df['DBSCAN_opt_labels']=dbscan.labels_ \n",
    "\n",
    "# Plotting resulting clusters\n",
    "plt.figure(figsize=(10,10))\n",
    "plt.scatter(df['longitude(scaled)'],df['latitude(scaled)'],c=df['DBSCAN_opt_labels'],cmap=matplotlib.colors.ListedColormap(colours),s=50,alpha=0.4)\n",
    "plt.title('DBSCAN Clustering',fontsize=20)\n",
    "plt.xlabel('Longitude(Scaled)',fontsize=14)\n",
    "plt.ylabel('Latitude(Scaled)',fontsize=14)\n",
    "plt.show()"
   ]
  },
  {
   "cell_type": "markdown",
   "metadata": {},
   "source": [
    "- **The heatmaps above has classified the coordinates into three different pickup locations or clusters, red, blue and green. The purple colour represents the noise.**"
   ]
  }
 ],
 "metadata": {
  "colab": {
   "authorship_tag": "ABX9TyMJH2Z5H6Z81/OqcplA6dT5",
   "collapsed_sections": [],
   "name": "Untitled0.ipynb",
   "provenance": []
  },
  "kernelspec": {
   "display_name": "Python 3",
   "language": "python",
   "name": "python3"
  },
  "language_info": {
   "codemirror_mode": {
    "name": "ipython",
    "version": 3
   },
   "file_extension": ".py",
   "mimetype": "text/x-python",
   "name": "python",
   "nbconvert_exporter": "python",
   "pygments_lexer": "ipython3",
   "version": "3.8.10"
  }
 },
 "nbformat": 4,
 "nbformat_minor": 4
}
